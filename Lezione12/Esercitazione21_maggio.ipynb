{
 "cells": [
  {
   "cell_type": "markdown",
   "id": "6fe14f5e-f4e8-45db-a61f-be34bc5ebee8",
   "metadata": {},
   "source": [
    "## Esercitazione del 21 Maggio 2024"
   ]
  },
  {
   "cell_type": "code",
   "execution_count": 57,
   "id": "661a17db",
   "metadata": {},
   "outputs": [],
   "source": [
    "import numpy as np\n",
    "import numpy.linalg as npl\n",
    "import scipy as sp\n",
    "import matplotlib.pyplot as plt"
   ]
  },
  {
   "cell_type": "markdown",
   "id": "e0b4ad6e-adec-42e2-8470-e17c17f7ec4b",
   "metadata": {},
   "source": [
    "# Esercizio 1\n",
    "\n",
    "Scrivere un codice Python per l'addestramento di una rete MLP  per risolvere un problema di regressione. La rete ha la seguente architettura: un nodo di input e un nodo di output.\n",
    "\n",
    "**Algoritmo di addestramento:**\n",
    "\n",
    "Utilizzeremo l'algoritmo di ottimizzazione Batch Gradient Descent con passo di apprendimento learning_rate per aggiornare i pesi della rete durante l'addestramento."
   ]
  },
  {
   "cell_type": "markdown",
   "id": "7102b93e-2eee-4ebb-9de9-8e16da345326",
   "metadata": {},
   "source": [
    "## Descrizione del problema:\n",
    "\n",
    "Consideriamo un dataset di coppie (x, y), dove x è un valore di input scalare e y è il valore di output desiderato. La rete MLP deve apprendere la relazione tra x e y in modo da poter prevedere y per nuovi valori di x."
   ]
  },
  {
   "cell_type": "markdown",
   "id": "17175e12-bfc0-4d34-a0b1-55b381e86080",
   "metadata": {},
   "source": [
    "-   Implementare la  funzione forward_propagation che calcola    l'output della rete per un dato input x.\n",
    "-   Implementare la  funzione backward_propagation per calcolare il gradiente della funzione di perdita rispetto ai pesi della rete ed aggiornare i pesi con il metodo del  Gradient Descent.\n",
    "       \n",
    "\n",
    "    "
   ]
  },
  {
   "cell_type": "markdown",
   "id": "0b4225d6-47c5-406f-bf9c-2eac836e1a99",
   "metadata": {},
   "source": [
    "Addestrare la rete:\n",
    "\n",
    "-     Caricare un dataset di coppie (x, y).\n",
    "-     Inizializzare i pesi della rete con valori casuali.\n",
    "-     Iterare su un numero definito di epoche:\n",
    "        Per ogni campione di training (x, y):\n",
    "          -  Calcolare l'output previsto y_pred\n",
    "             (forward_propagation).\n",
    "        Calcolare l'errore MSE (np.mean(0.5*(y_pred - y)**2)\n",
    "         -Calcolare il gradiente della funzione Costo\n",
    "           rispetto ai pesi (backward_propagation).\n",
    "         -Aggiornare i pesi della rete utilizzando\n",
    "          l'algoritmo di Batch Gradient Descent.\n",
    "\n",
    "   \n",
    "-    Sperimentare con diversi valori di learning rate e numero di\n",
    "     epoche per ottimizzare le prestazioni della rete.\n",
    "\n",
    "-    Visualizzare il grafico della Cost-Function in funzione delle epoche\n",
    "\n",
    "-    Usa la funzione di attivazione RELU."
   ]
  },
  {
   "cell_type": "markdown",
   "id": "cea306b4-e61e-474a-b24b-dd56bd797aa6",
   "metadata": {},
   "source": [
    "Valutare le prestazioni della rete:\n",
    "-    Su un set di dati di test e  Visualizzare i risultati ottenuti."
   ]
  },
  {
   "cell_type": "code",
   "execution_count": 58,
   "id": "5f5e76c8",
   "metadata": {},
   "outputs": [],
   "source": [
    "def relu(x):\n",
    "    # max(0, x)\n",
    "    return np.where(x >= 0, x, 0)\n",
    "\n",
    "def derivative_relu(x):\n",
    "    # 1 se x >= 0 (derivata di x), 0 altrimenti (derivata di costante)\n",
    "    return np.where(x >= 0, 1, 0)\n",
    "\n",
    "# ritorna l'output e il valore di eccitamento\n",
    "def forward_propagation(x, w, b):\n",
    "    # calcolo il risultato del neurone\n",
    "    a = w * x + b\n",
    "    # applico la funzione di attivazione\n",
    "    z = relu(a)\n",
    "    return z, a\n",
    "\n",
    "def backward_propagation(y_pred, y, x, a, w, b, learning_rate=0.001):\n",
    "    delta_1 = (y_pred - y) * derivative_relu(a)\n",
    "    nT = x.shape[0]\n",
    "    # aggiorno i pesi in base alla derivata della funzione costo\n",
    "    w = w - learning_rate * np.sum(delta_1 * x) / nT\n",
    "    # aggiorno il bias\n",
    "    b = b - learning_rate * np.sum(delta_1) / nT\n",
    "    return w, b\n",
    "\n",
    "# funzione costo\n",
    "# errore quadratico medio\n",
    "def mse(y_pred, y):\n",
    "    return np.mean(0.5 * (y_pred - y)**2)"
   ]
  },
  {
   "cell_type": "code",
   "execution_count": 59,
   "id": "763c28fb",
   "metadata": {},
   "outputs": [
    {
     "name": "stdout",
     "output_type": "stream",
     "text": [
      "Epoca: 0\n",
      "Epoca: 1000\n",
      "Epoca: 2000\n",
      "Epoca: 3000\n",
      "Epoca: 4000\n"
     ]
    }
   ],
   "source": [
    "# generiamo i dati di training\n",
    "x = np.linspace(0.0, 10.0, 50)\n",
    "y = 2*x + 5 + 0.4 * np.random.normal(0, 2, 50)\n",
    "\n",
    "# inizializiamo in maniera casuale i pesi e bias\n",
    "w = np.random.rand()\n",
    "b = np.random.rand()\n",
    "\n",
    "# iper parametri\n",
    "epochs = 5000\n",
    "learning_rate = 0.0005\n",
    "v_fcost = []\n",
    "\n",
    "# allenamento della rete\n",
    "for epoch in range(epochs):\n",
    "    # forward propagation\n",
    "    y_pred, a = forward_propagation(x, w, b)\n",
    "    # calcolo funzione costo\n",
    "    v_fcost.append(mse(y_pred, y))    \n",
    "    # backward_propagtion (aggiorno pesi e bias)\n",
    "    w, b = backward_propagation(y_pred, y, x, a, w, b, learning_rate)\n",
    "\n",
    "    if epoch % 1000 == 0:\n",
    "        print(\"Epoca:\", epoch)"
   ]
  },
  {
   "cell_type": "code",
   "execution_count": 60,
   "id": "0b46dcb8",
   "metadata": {},
   "outputs": [
    {
     "data": {
      "image/png": "[encoded data removed]",
      "text/plain": [
       "<Figure size 640x480 with 1 Axes>"
      ]
     },
     "metadata": {},
     "output_type": "display_data"
    }
   ],
   "source": [
    "# predizione su nuovi dati\n",
    "# forward propagation con i pesi imparati dalla rete\n",
    "x_new = np.linspace(0.0, 10.0, 100)\n",
    "y_pred_new, a = forward_propagation(x_new, w, b)\n",
    "\n",
    "# disegno i risultati\n",
    "plt.plot(x, y, 'ro')\n",
    "plt.plot(x_new, y_pred_new, 'b-')\n",
    "plt.show()"
   ]
  },
  {
   "cell_type": "code",
   "execution_count": 61,
   "id": "adaedb38",
   "metadata": {},
   "outputs": [
    {
     "data": {
      "text/plain": [
       "[<matplotlib.lines.Line2D at 0x18cb3fa3190>]"
      ]
     },
     "execution_count": 61,
     "metadata": {},
     "output_type": "execute_result"
    },
    {
     "data": {
      "image/png": "[encoded data removed]",
      "text/plain": [
       "<Figure size 640x480 with 1 Axes>"
      ]
     },
     "metadata": {},
     "output_type": "display_data"
    }
   ],
   "source": [
    "# disegno la funzione costo\n",
    "plt.semilogy(range(epochs), v_fcost, 'b')"
   ]
  },
  {
   "cell_type": "markdown",
   "id": "306bdd8d-cef3-4852-ac79-c11993fa2637",
   "metadata": {},
   "source": [
    "# Esercizio 2\n",
    "\n",
    "Risolvere lo stesso problema cambiando l'architettura della rete:\n",
    "\n",
    "La rete MLP avrà la seguente struttura:\n",
    "\n",
    "    1 nodo di input che riceve il valore di x\n",
    "    3 nodi nascosti con funzione di attivazione ReLU\n",
    "    1 nodo di output che produce il valore previsto di y"
   ]
  },
  {
   "cell_type": "code",
   "execution_count": null,
   "id": "c2ec1855-2a0a-4c78-a1d2-97d92f44a12a",
   "metadata": {},
   "outputs": [],
   "source": []
  },
  {
   "cell_type": "code",
   "execution_count": null,
   "id": "93b67121-5da0-4124-af6d-2f9a258970f6",
   "metadata": {},
   "outputs": [],
   "source": []
  },
  {
   "cell_type": "code",
   "execution_count": null,
   "id": "47fd0032-6356-4b53-9791-12154584c069",
   "metadata": {},
   "outputs": [],
   "source": []
  },
  {
   "cell_type": "code",
   "execution_count": null,
   "id": "b855c50f-13de-45a7-91ff-021a7c76fce8",
   "metadata": {},
   "outputs": [],
   "source": []
  },
  {
   "cell_type": "code",
   "execution_count": null,
   "id": "ed50d613-2d33-4cae-b20d-470d6fbc7545",
   "metadata": {},
   "outputs": [],
   "source": []
  },
  {
   "cell_type": "code",
   "execution_count": null,
   "id": "1987a4d2-3fc2-4df5-93e7-df689a66073c",
   "metadata": {},
   "outputs": [],
   "source": []
  },
  {
   "cell_type": "code",
   "execution_count": null,
   "id": "f6a56d6e-3173-4580-8d22-0d540955d3ca",
   "metadata": {},
   "outputs": [],
   "source": []
  },
  {
   "cell_type": "code",
   "execution_count": null,
   "id": "3af197a6-8eb3-4cbf-abd2-50000edc86b3",
   "metadata": {},
   "outputs": [],
   "source": []
  }
 ],
 "metadata": {
  "kernelspec": {
   "display_name": "Python 3 (ipykernel)",
   "language": "python",
   "name": "python3"
  },
  "language_info": {
   "codemirror_mode": {
    "name": "ipython",
    "version": 3
   },
   "file_extension": ".py",
   "mimetype": "text/x-python",
   "name": "python",
   "nbconvert_exporter": "python",
   "pygments_lexer": "ipython3",
   "version": "3.11.3"
  }
 },
 "nbformat": 4,
 "nbformat_minor": 5
}
