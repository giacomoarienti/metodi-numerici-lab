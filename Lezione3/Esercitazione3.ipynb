{
 "cells": [
  {
   "cell_type": "code",
   "execution_count": 8,
   "id": "551be1a5",
   "metadata": {},
   "outputs": [],
   "source": [
    "# Dependencies\n",
    "import numpy as np\n",
    "import matplotlib.pyplot as plt\n",
    "import time\n",
    "from math import *"
   ]
  },
  {
   "cell_type": "markdown",
   "id": "cd8d6a57-49d8-4eab-bb0f-107b277ad3d1",
   "metadata": {},
   "source": [
    "## Esercizi sui Numpy array  5 Marzo 2024\n"
   ]
  },
  {
   "cell_type": "markdown",
   "id": "d3445102-1135-4f49-8673-dcba181f883b",
   "metadata": {},
   "source": [
    "**Esercizio 1**\n",
    "\n",
    "Confrontare il tempo di esecuzione dei due metodi per la creazione di un numpy array di 2000000 di elementi equidistanti nell'intervallo [-4,4]:\n",
    "\n",
    "    1) costruzione con utilizzo di np.linspace\n",
    "    \n",
    "    2) Assegnazione manuale dei valori nel ciclo.\n",
    "    "
   ]
  },
  {
   "cell_type": "code",
   "execution_count": 32,
   "id": "c3170b83",
   "metadata": {},
   "outputs": [
    {
     "name": "stdout",
     "output_type": "stream",
     "text": [
      "np_linspace: 0.056338381999921694\n",
      "for_loop: 0.4684576510003353\n"
     ]
    }
   ],
   "source": [
    "N = 2000000\n",
    "A = -4\n",
    "B = 4\n",
    "#linspace\n",
    "start_time = time.perf_counter()\n",
    "a = np.linspace(A, B, N)\n",
    "np_time = time.perf_counter() - start_time\n",
    "print(\"np_linspace:\", np_time)\n",
    "#forloop\n",
    "start_time = time.perf_counter()\n",
    "step = (B - A + 1) / N\n",
    "a = [A + e * step for e in range(N)]\n",
    "for_time = time.perf_counter() - start_time\n",
    "print(\"for_loop:\", for_time)"
   ]
  },
  {
   "cell_type": "markdown",
   "id": "59db5cfc-4e88-42a8-afc7-1d666abd0abc",
   "metadata": {},
   "source": [
    "**Esercizio 2**\n",
    "\n",
    "-     Creare un numpy array 1D (chiamato c) di valori equidistanti tra 7 e 41 con step 2.\n",
    "\n",
    "-      Trasformare l'array c in un numpy array 2d (chiamato c1) con shape (2,9) usando il metodo .reshape((m,n))\n",
    "\n",
    "-       Determinare se c1 e' una copia o una vista dell'originale."
   ]
  },
  {
   "cell_type": "code",
   "execution_count": 23,
   "id": "b969e9aa",
   "metadata": {},
   "outputs": [
    {
     "name": "stdout",
     "output_type": "stream",
     "text": [
      "[ 7.  9. 11. 13. 15. 17. 19. 21. 23. 25. 27. 29. 31. 33. 35. 37. 39. 41.]\n",
      "[[ 7.  9. 11. 13. 15. 17. 19. 21. 23.]\n",
      " [25. 27. 29. 31. 33. 35. 37. 39. 41.]]\n"
     ]
    }
   ],
   "source": [
    "c = np.linspace(7, 41, int((41 - 7) / 2 + 1))\n",
    "c1 = c.reshape((2, 9))\n",
    "print(c)\n",
    "print(c1)"
   ]
  },
  {
   "cell_type": "markdown",
   "id": "7b81197a-a950-48ab-8e75-31855ac69d9d",
   "metadata": {},
   "source": [
    "**Esercizio 3**\n",
    "\n",
    "-     Costruire un numpy array 1d, denominato $C$ di valori che variano tra 15 e 41 con step 2\n",
    "\n",
    "-     Trasformarlo in un numpy array 2d con shape(7,2) usando il metodo . resize(7,2)  che lavora in-place,  (cioè  modifica l'array esistente, non è necessario creare una copia). Verificare la shape di C e dire se C è copia o vista?"
   ]
  },
  {
   "cell_type": "code",
   "execution_count": 22,
   "id": "57b7c83c-287b-46b6-b2a5-424f975844cf",
   "metadata": {},
   "outputs": [
    {
     "name": "stdout",
     "output_type": "stream",
     "text": [
      "[[15. 17.]\n",
      " [19. 21.]\n",
      " [23. 25.]\n",
      " [27. 29.]\n",
      " [31. 33.]\n",
      " [35. 37.]\n",
      " [39. 41.]]\n"
     ]
    }
   ],
   "source": [
    "c = np.linspace(15, 41, int((41 - 15) / 2 + 1))\n",
    "c.resize((7, 2))\n",
    "print(c)"
   ]
  },
  {
   "cell_type": "markdown",
   "id": "d1adc080-9ce4-404c-ba18-c831f2625214",
   "metadata": {},
   "source": [
    "**Esercizio 4**\n",
    "\n",
    "-      Costruire il numpy array  s  formato da 100 valori equidistanti in  [0,4],\n",
    "\n",
    "-      considerarne il reshape in un array 2d che ha 4 righe con un numero opportuno di colonne"
   ]
  },
  {
   "cell_type": "code",
   "execution_count": 25,
   "id": "cb158db7",
   "metadata": {},
   "outputs": [
    {
     "name": "stdout",
     "output_type": "stream",
     "text": [
      "[[0.         0.04040404 0.08080808 0.12121212 0.16161616 0.2020202\n",
      "  0.24242424 0.28282828 0.32323232 0.36363636 0.4040404  0.44444444\n",
      "  0.48484848 0.52525253 0.56565657 0.60606061 0.64646465 0.68686869\n",
      "  0.72727273 0.76767677 0.80808081 0.84848485 0.88888889 0.92929293\n",
      "  0.96969697]\n",
      " [1.01010101 1.05050505 1.09090909 1.13131313 1.17171717 1.21212121\n",
      "  1.25252525 1.29292929 1.33333333 1.37373737 1.41414141 1.45454545\n",
      "  1.49494949 1.53535354 1.57575758 1.61616162 1.65656566 1.6969697\n",
      "  1.73737374 1.77777778 1.81818182 1.85858586 1.8989899  1.93939394\n",
      "  1.97979798]\n",
      " [2.02020202 2.06060606 2.1010101  2.14141414 2.18181818 2.22222222\n",
      "  2.26262626 2.3030303  2.34343434 2.38383838 2.42424242 2.46464646\n",
      "  2.50505051 2.54545455 2.58585859 2.62626263 2.66666667 2.70707071\n",
      "  2.74747475 2.78787879 2.82828283 2.86868687 2.90909091 2.94949495\n",
      "  2.98989899]\n",
      " [3.03030303 3.07070707 3.11111111 3.15151515 3.19191919 3.23232323\n",
      "  3.27272727 3.31313131 3.35353535 3.39393939 3.43434343 3.47474747\n",
      "  3.51515152 3.55555556 3.5959596  3.63636364 3.67676768 3.71717172\n",
      "  3.75757576 3.7979798  3.83838384 3.87878788 3.91919192 3.95959596\n",
      "  4.        ]]\n"
     ]
    }
   ],
   "source": [
    "s = np.linspace(0, 4, 100)\n",
    "print(s.reshape((4,25)))"
   ]
  },
  {
   "cell_type": "markdown",
   "id": "d40f5d7a-4808-4004-b806-b8b75bcaa01b",
   "metadata": {},
   "source": [
    "**Esercizio 5**\n",
    "\n",
    "-     Costruire il numpy array s formato da 100 valori equidistanti in  [0,4]\n",
    "-     considerarne il reshape in un array 2d che ha 4 colonne con un numero opportuno di righe"
   ]
  },
  {
   "cell_type": "code",
   "execution_count": 26,
   "id": "a857d954",
   "metadata": {},
   "outputs": [
    {
     "name": "stdout",
     "output_type": "stream",
     "text": [
      "[[0.         0.04040404 0.08080808 0.12121212]\n",
      " [0.16161616 0.2020202  0.24242424 0.28282828]\n",
      " [0.32323232 0.36363636 0.4040404  0.44444444]\n",
      " [0.48484848 0.52525253 0.56565657 0.60606061]\n",
      " [0.64646465 0.68686869 0.72727273 0.76767677]\n",
      " [0.80808081 0.84848485 0.88888889 0.92929293]\n",
      " [0.96969697 1.01010101 1.05050505 1.09090909]\n",
      " [1.13131313 1.17171717 1.21212121 1.25252525]\n",
      " [1.29292929 1.33333333 1.37373737 1.41414141]\n",
      " [1.45454545 1.49494949 1.53535354 1.57575758]\n",
      " [1.61616162 1.65656566 1.6969697  1.73737374]\n",
      " [1.77777778 1.81818182 1.85858586 1.8989899 ]\n",
      " [1.93939394 1.97979798 2.02020202 2.06060606]\n",
      " [2.1010101  2.14141414 2.18181818 2.22222222]\n",
      " [2.26262626 2.3030303  2.34343434 2.38383838]\n",
      " [2.42424242 2.46464646 2.50505051 2.54545455]\n",
      " [2.58585859 2.62626263 2.66666667 2.70707071]\n",
      " [2.74747475 2.78787879 2.82828283 2.86868687]\n",
      " [2.90909091 2.94949495 2.98989899 3.03030303]\n",
      " [3.07070707 3.11111111 3.15151515 3.19191919]\n",
      " [3.23232323 3.27272727 3.31313131 3.35353535]\n",
      " [3.39393939 3.43434343 3.47474747 3.51515152]\n",
      " [3.55555556 3.5959596  3.63636364 3.67676768]\n",
      " [3.71717172 3.75757576 3.7979798  3.83838384]\n",
      " [3.87878788 3.91919192 3.95959596 4.        ]]\n"
     ]
    }
   ],
   "source": [
    "s = np.linspace(0, 4, 100)\n",
    "print(s.reshape((25, 4)))"
   ]
  },
  {
   "cell_type": "markdown",
   "id": "6df0f7e2-8d6d-45e3-b6c8-73ed973b62f0",
   "metadata": {},
   "source": [
    "**Esercizio 6**  \n",
    "\n",
    "-     Scrivere il numpy  array 2d, A, [[10,11,12],[13,14,15],[16,17,18]] \n",
    "-     trasformarlo in un numpy array 1d usando il metodo .ravel()  \n",
    "-     Si tratta di una copia o di una vista?"
   ]
  },
  {
   "cell_type": "code",
   "execution_count": 28,
   "id": "a080e28e",
   "metadata": {},
   "outputs": [
    {
     "name": "stdout",
     "output_type": "stream",
     "text": [
      "[10 11 12 13 14 15 16 17 18]\n",
      "[[10 11 12]\n",
      " [13 14 15]\n",
      " [16 17 18]]\n"
     ]
    }
   ],
   "source": [
    "A = np.array([[10,11,12],[13,14,15],[16,17,18]])\n",
    "B = A.ravel()\n",
    "print(B)\n",
    "print(B.base)"
   ]
  },
  {
   "cell_type": "markdown",
   "id": "19559c2a-0ac7-4d4a-b6ff-38e58843b3b6",
   "metadata": {},
   "source": [
    "**Esercizio 7**  \n",
    "\n",
    "-     Scrivere il numpy  array 2d, A, [[10,11,12],[13,14,15],[16,17,18]] \n",
    "-     trasformarlo in un numpy array 1d usando il metodo  .flatten().\n",
    "-     Si tratta di una copia o di una vista?"
   ]
  },
  {
   "cell_type": "code",
   "execution_count": 29,
   "id": "f67f86a6",
   "metadata": {},
   "outputs": [
    {
     "name": "stdout",
     "output_type": "stream",
     "text": [
      "[10 11 12 13 14 15 16 17 18]\n",
      "None\n"
     ]
    }
   ],
   "source": [
    "A = np.array([[10,11,12],[13,14,15],[16,17,18]])\n",
    "B = A.flatten()\n",
    "print(B)\n",
    "print(B.base)"
   ]
  },
  {
   "cell_type": "markdown",
   "id": "c77c2529-d680-42c9-9231-3aca724b1c12",
   "metadata": {},
   "source": [
    "**Esercizio 8** \n",
    "\n",
    "-     creare i due  numpy array 1d\n",
    "        f1= [ 0  1  2  3  4  5  6  7  8  9 10 11 12 13 14 15]  \n",
    "        f2= [16 17 18 19 20 21 22 23 24 25 26 27 28 29 30 31]\n",
    "-     \"vederli\" come matrici  4x4 ed effettuarne il prodotto scalare, memorizzando in f3 la matrice che nasce dal loro prodotto."
   ]
  },
  {
   "cell_type": "code",
   "execution_count": 35,
   "id": "b7abfa8d",
   "metadata": {},
   "outputs": [
    {
     "data": {
      "text/plain": [
       "array([[ 152,  158,  164,  170],\n",
       "       [ 504,  526,  548,  570],\n",
       "       [ 856,  894,  932,  970],\n",
       "       [1208, 1262, 1316, 1370]])"
      ]
     },
     "execution_count": 35,
     "metadata": {},
     "output_type": "execute_result"
    }
   ],
   "source": [
    "f1 = np.arange(16)\n",
    "f2 = np.arange(16) + 16\n",
    "f3 = np.dot(f1.reshape((4, 4)), f2.reshape((4, 4)))\n",
    "f3"
   ]
  },
  {
   "cell_type": "markdown",
   "id": "c9249961-c220-46c0-9e0d-e59dfefe662c",
   "metadata": {},
   "source": [
    "**Esercizio 9**    \n",
    "\n",
    " Costruire:\n",
    "-      Numpy Array A di shape (2,10) : array di valori random campionati da una distribuzione gaussiana con media 0 e varianza 1.\n",
    " -     Numpy array 1D B di shape (20,) formato dagli interi da 0 a 19.\n",
    " \n",
    " \"Vedere\" A come un array 1D di 20 elementi ed effettuare la somma di A+B\n",
    "\n"
   ]
  },
  {
   "cell_type": "code",
   "execution_count": 40,
   "id": "248abbf0",
   "metadata": {},
   "outputs": [
    {
     "data": {
      "text/plain": [
       "array([ 0.98641044,  1.7761359 ,  2.26190876,  3.20644967,  4.74631325,\n",
       "        5.6959016 ,  6.70550173,  7.82043417,  8.01232656,  9.92361466,\n",
       "       10.00483668, 11.78873848, 12.02538412, 13.43696013, 14.41007274,\n",
       "       15.56178345, 16.95710603, 17.52966736, 18.45407544, 19.15064964])"
      ]
     },
     "execution_count": 40,
     "metadata": {},
     "output_type": "execute_result"
    }
   ],
   "source": [
    "A = np.random.random((2, 10))\n",
    "B = np.arange(20)\n",
    "A.reshape((20,)) + B"
   ]
  },
  {
   "cell_type": "markdown",
   "id": "7f6cf29e-d14a-46c9-8f35-e66151a9e0a3",
   "metadata": {},
   "source": [
    "**Esercizio 10** \n",
    "-     Creare un array 2D di shape (5,5), denominato B2, con valori tutti uguali a 15.\n",
    "-     Creare una copia B3 di B2. Modificare l'elemento B3[0,0] assegnandogli il valore 150. \n",
    "-     Stampare il numpy array B2 ed il numpy array B3 e verificare che B2, dopo la modifica di B3, è rimasto inalterato"
   ]
  },
  {
   "cell_type": "code",
   "execution_count": 41,
   "id": "6e4c1d5d",
   "metadata": {},
   "outputs": [
    {
     "name": "stdout",
     "output_type": "stream",
     "text": [
      "[[15 15 15 15 15]\n",
      " [15 15 15 15 15]\n",
      " [15 15 15 15 15]\n",
      " [15 15 15 15 15]\n",
      " [15 15 15 15 15]]\n",
      "[[150  15  15  15  15]\n",
      " [ 15  15  15  15  15]\n",
      " [ 15  15  15  15  15]\n",
      " [ 15  15  15  15  15]\n",
      " [ 15  15  15  15  15]]\n"
     ]
    }
   ],
   "source": [
    "B2 = np.full((5, 5), 15)\n",
    "B3 = B2.copy()\n",
    "B3[0, 0] = 150\n",
    "print(B2)\n",
    "print(B3)"
   ]
  },
  {
   "cell_type": "markdown",
   "id": "af234d9c-98b6-4741-91a8-0c1d14ff8183",
   "metadata": {},
   "source": [
    "\n"
   ]
  },
  {
   "cell_type": "markdown",
   "id": "22c456d1-2897-412c-99c1-e9b19cbab4e7",
   "metadata": {},
   "source": [
    "**Esercizio 11**   \n",
    "\n",
    "-     Costruire  un numpy array 1D, di shape (10,) denominato  f , costituito da 10 valori equidistanti nell'intervallo [0,1]\n",
    "-     aumentarne la dimensionalità, in maniera tale che abbia shape (10,1)"
   ]
  },
  {
   "cell_type": "code",
   "execution_count": 43,
   "id": "c2b778d4",
   "metadata": {},
   "outputs": [
    {
     "data": {
      "text/plain": [
       "array([[0.        ],\n",
       "       [0.11111111],\n",
       "       [0.22222222],\n",
       "       [0.33333333],\n",
       "       [0.44444444],\n",
       "       [0.55555556],\n",
       "       [0.66666667],\n",
       "       [0.77777778],\n",
       "       [0.88888889],\n",
       "       [1.        ]])"
      ]
     },
     "execution_count": 43,
     "metadata": {},
     "output_type": "execute_result"
    }
   ],
   "source": [
    "f = np.linspace(0, 1, 10)\n",
    "f.reshape((10, 1))"
   ]
  },
  {
   "cell_type": "markdown",
   "id": "2866db7c-cbcb-431e-bc6a-2645577a65e8",
   "metadata": {},
   "source": [
    "**Esercizio 12**\n",
    "-     Costruire i seguenti numpy array\n",
    "      a= np.array([14,13,12,11])\n",
    "      b=np.array([[4,3,2,1],[9,10,11,12]])\n",
    "\n",
    "  Costruire il numpy array che si ottiene concatenando a e b per righe\n"
   ]
  },
  {
   "cell_type": "code",
   "execution_count": 49,
   "id": "1d7420a6",
   "metadata": {},
   "outputs": [
    {
     "data": {
      "text/plain": [
       "array([[14, 13, 12, 11],\n",
       "       [ 4,  3,  2,  1],\n",
       "       [ 9, 10, 11, 12]])"
      ]
     },
     "execution_count": 49,
     "metadata": {},
     "output_type": "execute_result"
    }
   ],
   "source": [
    "a = np.array([14,13,12,11])\n",
    "b = np.array([[4,3,2,1],[9,10,11,12]])\n",
    "np.vstack((a, b))"
   ]
  },
  {
   "cell_type": "markdown",
   "id": "d57c7290-27ce-4dce-a8e2-6b89124ed223",
   "metadata": {},
   "source": [
    "**Esercizio 13**\n",
    "-     Costruire i seguenti numpy array\n",
    "      a= np.array([14,13,12,11])\n",
    "      b=np.array([[4,3,2,1],[9,10,11,12],[4,3,2,1],[9,10,11,12]])\n",
    "- Costruire il numpy array che si ottiene concatenando a e b per colonne"
   ]
  },
  {
   "cell_type": "code",
   "execution_count": 59,
   "id": "73fe2d18",
   "metadata": {},
   "outputs": [
    {
     "data": {
      "text/plain": [
       "array([[14,  4,  3,  2,  1],\n",
       "       [13,  9, 10, 11, 12],\n",
       "       [12,  4,  3,  2,  1],\n",
       "       [11,  9, 10, 11, 12]])"
      ]
     },
     "execution_count": 59,
     "metadata": {},
     "output_type": "execute_result"
    }
   ],
   "source": [
    "a = np.array([14,13,12,11])\n",
    "a.resize(4, 1)\n",
    "b = np.array([[4,3,2,1],[9,10,11,12],[4,3,2,1],[9,10,11,12]])\n",
    "np.concatenate((a, b), axis=1)"
   ]
  },
  {
   "cell_type": "markdown",
   "id": "7c6eb421-0e1f-445b-b72f-7d2a2451fcb4",
   "metadata": {},
   "source": [
    "**Esercizio 14**\n",
    "\n",
    "Costruire, facendo uso di una sola riga di codice, la matrice A di ordine 10, che ha gli unici elementi diversi da zero, sulla diagonale princiaple, sulla codiagonale inferiore e sulla codiagonale superiore:\n",
    "\n",
    "elementi diagonali $A_{i,i}=10 \\quad$ i=1,20\n",
    "\n",
    "elementi nella codiagonale inferiore $A_{i-1,i}=-12, \\quad$ i=2,..,20\n",
    "\n",
    "elementi nella codiagonale superiore $A_{i,i+1}=-2 \\quad$ i=1,..,19"
   ]
  },
  {
   "cell_type": "code",
   "execution_count": 5,
   "id": "db0c7319",
   "metadata": {},
   "outputs": [
    {
     "data": {
      "text/plain": [
       "array([[ 10.,  -2.,   0.,   0.,   0.,   0.,   0.,   0.,   0.,   0.],\n",
       "       [-12.,  10.,  -2.,   0.,   0.,   0.,   0.,   0.,   0.,   0.],\n",
       "       [  0., -12.,  10.,  -2.,   0.,   0.,   0.,   0.,   0.,   0.],\n",
       "       [  0.,   0., -12.,  10.,  -2.,   0.,   0.,   0.,   0.,   0.],\n",
       "       [  0.,   0.,   0., -12.,  10.,  -2.,   0.,   0.,   0.,   0.],\n",
       "       [  0.,   0.,   0.,   0., -12.,  10.,  -2.,   0.,   0.,   0.],\n",
       "       [  0.,   0.,   0.,   0.,   0., -12.,  10.,  -2.,   0.,   0.],\n",
       "       [  0.,   0.,   0.,   0.,   0.,   0., -12.,  10.,  -2.,   0.],\n",
       "       [  0.,   0.,   0.,   0.,   0.,   0.,   0., -12.,  10.,  -2.],\n",
       "       [  0.,   0.,   0.,   0.,   0.,   0.,   0.,   0., -12.,  10.]])"
      ]
     },
     "execution_count": 5,
     "metadata": {},
     "output_type": "execute_result"
    }
   ],
   "source": [
    "A = np.eye(10, 10) * 10 + np.eye(10, 10, -1) * -12 + np.eye(10, 10, 1) * -2\n",
    "A"
   ]
  },
  {
   "cell_type": "markdown",
   "id": "bae8a3dc-e71c-4ff4-8062-2d66c377d63f",
   "metadata": {},
   "source": [
    "**Esercizio 15**\n",
    "\n",
    "Costruire la matrice identità, denominata *I*,  della stessa dimensione di *A*"
   ]
  },
  {
   "cell_type": "code",
   "execution_count": 7,
   "id": "29227094",
   "metadata": {},
   "outputs": [
    {
     "data": {
      "text/plain": [
       "array([[1., 0., 0., 0., 0., 0., 0., 0., 0., 0.],\n",
       "       [0., 1., 0., 0., 0., 0., 0., 0., 0., 0.],\n",
       "       [0., 0., 1., 0., 0., 0., 0., 0., 0., 0.],\n",
       "       [0., 0., 0., 1., 0., 0., 0., 0., 0., 0.],\n",
       "       [0., 0., 0., 0., 1., 0., 0., 0., 0., 0.],\n",
       "       [0., 0., 0., 0., 0., 1., 0., 0., 0., 0.],\n",
       "       [0., 0., 0., 0., 0., 0., 1., 0., 0., 0.],\n",
       "       [0., 0., 0., 0., 0., 0., 0., 1., 0., 0.],\n",
       "       [0., 0., 0., 0., 0., 0., 0., 0., 1., 0.],\n",
       "       [0., 0., 0., 0., 0., 0., 0., 0., 0., 1.]])"
      ]
     },
     "execution_count": 7,
     "metadata": {},
     "output_type": "execute_result"
    }
   ],
   "source": [
    "I = np.eye(A.shape[0], A.shape[1])\n",
    "I"
   ]
  },
  {
   "cell_type": "markdown",
   "id": "612458f4-d8f6-4015-ae74-042d73cbd9f9",
   "metadata": {},
   "source": [
    "**Esercizio 16**\n",
    "\n",
    "Facendo uso dell'operatore slicing *:* ,costruire la matrice AA selezionando dalla matrice A le righe che vanno dalla 2 alla 9 con step 2 e le colonne che vanno dalla 3 alla 6 con step 2.\n",
    "La matrice AA è una vista o una copia?\n"
   ]
  },
  {
   "cell_type": "code",
   "execution_count": 11,
   "id": "80c67387",
   "metadata": {},
   "outputs": [
    {
     "name": "stdout",
     "output_type": "stream",
     "text": [
      "[[ -2.   0.]\n",
      " [-12.  -2.]\n",
      " [  0. -12.]\n",
      " [  0.   0.]]\n",
      "[[ 10.  -2.   0.   0.   0.   0.   0.   0.   0.   0.]\n",
      " [-12.  10.  -2.   0.   0.   0.   0.   0.   0.   0.]\n",
      " [  0. -12.  10.  -2.   0.   0.   0.   0.   0.   0.]\n",
      " [  0.   0. -12.  10.  -2.   0.   0.   0.   0.   0.]\n",
      " [  0.   0.   0. -12.  10.  -2.   0.   0.   0.   0.]\n",
      " [  0.   0.   0.   0. -12.  10.  -2.   0.   0.   0.]\n",
      " [  0.   0.   0.   0.   0. -12.  10.  -2.   0.   0.]\n",
      " [  0.   0.   0.   0.   0.   0. -12.  10.  -2.   0.]\n",
      " [  0.   0.   0.   0.   0.   0.   0. -12.  10.  -2.]\n",
      " [  0.   0.   0.   0.   0.   0.   0.   0. -12.  10.]]\n"
     ]
    }
   ],
   "source": [
    "AA = A[2:9:2, 3:6:2]\n",
    "print(AA)\n",
    "print(AA.base)"
   ]
  },
  {
   "cell_type": "markdown",
   "id": "db2a4f82-fe57-4763-bd58-9921869c671c",
   "metadata": {},
   "source": [
    "**Esercizio 17**\n",
    "\n",
    "Facendo uso dell'operatore slicing *:*, costruire la matrice A1 selezionando dalla matrice A le colonne che vanno dalla 1 alla 5 con step 2.  Trasforma la matrice A1 in una copia."
   ]
  },
  {
   "cell_type": "code",
   "execution_count": 19,
   "id": "6782b1a1-e875-4930-8fa6-48c98783b981",
   "metadata": {},
   "outputs": [
    {
     "name": "stdout",
     "output_type": "stream",
     "text": [
      "[[ 10.   0.   0.]\n",
      " [-12.  -2.   0.]\n",
      " [  0.  10.   0.]\n",
      " [  0. -12.  -2.]\n",
      " [  0.   0.  10.]\n",
      " [  0.   0. -12.]\n",
      " [  0.   0.   0.]\n",
      " [  0.   0.   0.]\n",
      " [  0.   0.   0.]\n",
      " [  0.   0.   0.]]\n",
      "None\n"
     ]
    }
   ],
   "source": [
    "A1 = A[:, :5:2].copy()\n",
    "print(A1)\n",
    "print(A1.base)"
   ]
  },
  {
   "cell_type": "markdown",
   "id": "f5a336bc-5cf9-4400-ae23-4be1f35521de",
   "metadata": {
    "tags": []
   },
   "source": [
    "**Esercizio 18**\n",
    "\n",
    "Costruisci due numpy array A e B di shape (5,5) \n",
    "   - A formata da numeri interi casuali  nell'intervallo [1,20]\n",
    "   - B formata da numeri interi casuali  nell'intervallo [1,6]\n",
    " \n",
    "  Costruisci con una sola riga di codice le seguenti matrici\n",
    "  \n",
    "  C=A+B   dove  $\\quad c_{ij}=a_{ij}+b_{ij} \\quad i=0,..,n, \\quad j=0,...,n$\n",
    "  \n",
    "  D=A-B   dove  $\\quad d_{ij}=a_{ij}-b_{ij} \\quad i=0,..,n, \\quad j=0,...,n$\n",
    "  \n",
    "  E=A*B   dove  $\\quad e_{ij}=a_{ij}*b_{ij} \\quad i=0,..,n, \\quad j=0,...,n$\n",
    "  \n",
    "  F=A\\B   dove  $\\quad f_{ij}=a_{ij}/b_{ij} \\quad i=0,..,n, \\quad j=0,...,n$"
   ]
  },
  {
   "cell_type": "code",
   "execution_count": 22,
   "id": "e059a543",
   "metadata": {},
   "outputs": [
    {
     "name": "stdout",
     "output_type": "stream",
     "text": [
      "[[17 20 19  5 22]\n",
      " [23 23 15  9  9]\n",
      " [16 23 11 12 22]\n",
      " [13 18 18 12 23]\n",
      " [16 10  5 18 14]]\n",
      "[[ 9 10 17  3 12]\n",
      " [13 15 13  5 -1]\n",
      " [14 15  7  8 12]\n",
      " [ 5 12 12  2 11]\n",
      " [12  0 -1 12 12]]\n",
      "[[ 52  75  18   4  85]\n",
      " [ 90  76  14  14  20]\n",
      " [ 15  76  18  20  85]\n",
      " [ 36  45  45  35 102]\n",
      " [ 28  25   6  45  13]]\n",
      "[[ 3.25        3.         18.          4.          3.4       ]\n",
      " [ 3.6         4.75       14.          3.5         0.8       ]\n",
      " [15.          4.75        4.5         5.          3.4       ]\n",
      " [ 2.25        5.          5.          1.4         2.83333333]\n",
      " [ 7.          1.          0.66666667  5.         13.        ]]\n"
     ]
    }
   ],
   "source": [
    "A = np.random.randint(1, 20+1, (5, 5))\n",
    "B = np.random.randint(1, 6+1, (5, 5))\n",
    "C = A + B\n",
    "D = A - B\n",
    "E = A * B\n",
    "F = A / B\n",
    "print(C)\n",
    "print(D)\n",
    "print(E)\n",
    "print(F)"
   ]
  },
  {
   "cell_type": "markdown",
   "id": "43fad425-0411-4471-962e-c79247aecb83",
   "metadata": {},
   "source": [
    "**Esercizio 19**\n",
    "\n",
    "Costruisci la matrice ottenuta facendo il prodotto scalare tra le  matrici A e B (righe per colonne)"
   ]
  },
  {
   "cell_type": "code",
   "execution_count": 4,
   "id": "9683bb6a",
   "metadata": {},
   "outputs": [
    {
     "data": {
      "text/plain": [
       "array([[218, 241, 201, 225, 172],\n",
       "       [113, 147, 171,  96,  72],\n",
       "       [181, 220, 262, 239, 148],\n",
       "       [177, 217, 219, 161, 110],\n",
       "       [119, 155, 143, 168, 122]])"
      ]
     },
     "execution_count": 4,
     "metadata": {},
     "output_type": "execute_result"
    }
   ],
   "source": [
    "A @ B"
   ]
  },
  {
   "cell_type": "markdown",
   "id": "e6ae130a-1d6c-429b-ab62-718ff805d9bc",
   "metadata": {},
   "source": [
    "**Esercizio 20**\n",
    "\n",
    "Costruisci l'array ottenuto sommando gli elementi delle righe della matrice B usando l'appropriata funzione di Numpy."
   ]
  },
  {
   "cell_type": "code",
   "execution_count": 7,
   "id": "d1741869",
   "metadata": {},
   "outputs": [
    {
     "data": {
      "text/plain": [
       "array([17, 19, 19, 19, 13])"
      ]
     },
     "execution_count": 7,
     "metadata": {},
     "output_type": "execute_result"
    }
   ],
   "source": [
    "np.sum(B, axis=0)"
   ]
  },
  {
   "cell_type": "markdown",
   "id": "4cb04c63-c9c6-41a8-8e62-bc4497a4251b",
   "metadata": {},
   "source": [
    "**Esercizio 21** \n",
    "\n",
    "Costruisci l'array ottenuto sommando gli elementi delle colonne della matrice B usando l'appropriata funzione di Numpy."
   ]
  },
  {
   "cell_type": "code",
   "execution_count": 8,
   "id": "7f674c5b",
   "metadata": {},
   "outputs": [
    {
     "data": {
      "text/plain": [
       "array([18, 21, 17, 16, 15])"
      ]
     },
     "execution_count": 8,
     "metadata": {},
     "output_type": "execute_result"
    }
   ],
   "source": [
    "np.sum(B, axis=1)"
   ]
  },
  {
   "cell_type": "markdown",
   "id": "5715d0db-b005-4256-86a0-4a94a46fdd96",
   "metadata": {},
   "source": [
    "**Esercizio 22** \n",
    "\n",
    "Somma tutti gli elementi di B usando l'appropriata funzione di Numpy."
   ]
  },
  {
   "cell_type": "code",
   "execution_count": 9,
   "id": "0a521637",
   "metadata": {},
   "outputs": [
    {
     "data": {
      "text/plain": [
       "87"
      ]
     },
     "execution_count": 9,
     "metadata": {},
     "output_type": "execute_result"
    }
   ],
   "source": [
    "np.sum(B)"
   ]
  },
  {
   "cell_type": "markdown",
   "id": "337c76cc-d82b-4bbb-a57c-52080a6aa9cb",
   "metadata": {},
   "source": [
    "**Esercizio 23**\n",
    "\n",
    "Calcolare il minimo degli elementi di B, tra le righe, tra le colonne, il minimo di tutta la matrice B"
   ]
  },
  {
   "cell_type": "code",
   "execution_count": 11,
   "id": "16f65a91",
   "metadata": {},
   "outputs": [
    {
     "name": "stdout",
     "output_type": "stream",
     "text": [
      "[1 1 2 1 1]\n",
      "[1 2 2 1 1]\n",
      "1\n"
     ]
    }
   ],
   "source": [
    "print(np.min(B, axis=0))\n",
    "print(np.min(B, axis=1))\n",
    "print(np.min(B))"
   ]
  },
  {
   "cell_type": "markdown",
   "id": "30bc84d9-f2ff-42aa-95ee-b10d69e50762",
   "metadata": {},
   "source": [
    "**Esercizio 24**\n",
    "\n",
    "Calcola e memorizza in un vettore la somma degli elementi di ogni colonna di $ |B |$. Calcola successivamente il massimo di questo vettore.\n",
    "$maxsc= \\max_{j=1,n} \\sum_{i} |b_{ij}|$"
   ]
  },
  {
   "cell_type": "code",
   "execution_count": 15,
   "id": "98426d28",
   "metadata": {},
   "outputs": [
    {
     "data": {
      "text/plain": [
       "21"
      ]
     },
     "execution_count": 15,
     "metadata": {},
     "output_type": "execute_result"
    }
   ],
   "source": [
    "b = np.sum(B, axis=1)\n",
    "np.max(b)"
   ]
  },
  {
   "cell_type": "markdown",
   "id": "7763e180-a6f1-41d3-9af7-4fb92bacd72d",
   "metadata": {},
   "source": [
    "**Esercizio 25**\n",
    "Calcola, memorizzando in un vettore, la somma degli elementi di ogni riga  di $ |B |$. Calcola successivamente il massimo di questo vettore.\n",
    "$maxsr= \\max_{i=1,n} \\sum_{j} |b_{ij}|$"
   ]
  },
  {
   "cell_type": "code",
   "execution_count": 19,
   "id": "45f0ea08",
   "metadata": {},
   "outputs": [
    {
     "name": "stdout",
     "output_type": "stream",
     "text": [
      "[[3 6 6 1 2]\n",
      " [6 4 2 5 4]\n",
      " [4 5 3 3 2]\n",
      " [3 1 6 5 1]\n",
      " [1 3 2 5 4]]\n"
     ]
    },
    {
     "data": {
      "text/plain": [
       "19"
      ]
     },
     "execution_count": 19,
     "metadata": {},
     "output_type": "execute_result"
    }
   ],
   "source": [
    "b = np.sum(B, axis=0)\n",
    "np.max(b)"
   ]
  },
  {
   "cell_type": "markdown",
   "id": "89a136bb-2e23-4fca-9717-d32434f5f5ce",
   "metadata": {},
   "source": [
    "**Esercizio 26**\n",
    "\n",
    "Effettua nella matrice B lo scambio tra la  riga 2 e  la riga 3"
   ]
  },
  {
   "cell_type": "code",
   "execution_count": 23,
   "id": "6cda1672",
   "metadata": {},
   "outputs": [
    {
     "name": "stdout",
     "output_type": "stream",
     "text": [
      "[[4 5 1 1 5]\n",
      " [5 4 1 2 5]\n",
      " [1 4 2 2 5]\n",
      " [4 3 3 5 6]\n",
      " [2 5 3 3 1]]\n",
      "[[4 5 1 1 5]\n",
      " [5 4 1 2 5]\n",
      " [4 3 3 5 6]\n",
      " [1 4 2 2 5]\n",
      " [2 5 3 3 1]]\n"
     ]
    }
   ],
   "source": [
    "print(B)\n",
    "row = B[2].copy()\n",
    "B[2] = B[3]\n",
    "B[3] = row\n",
    "print(B)"
   ]
  },
  {
   "cell_type": "markdown",
   "id": "5a00eaef-f14c-49f9-b9d1-c8ad90627935",
   "metadata": {},
   "source": [
    "**Esercizio 27**\n",
    "\n",
    "Calcola il valore massimo della colonna 0-esima della matrice B e l'indice di riga a cui appartiene"
   ]
  },
  {
   "cell_type": "code",
   "execution_count": 32,
   "id": "e1e72b57",
   "metadata": {},
   "outputs": [
    {
     "data": {
      "text/plain": [
       "1"
      ]
     },
     "execution_count": 32,
     "metadata": {},
     "output_type": "execute_result"
    }
   ],
   "source": [
    "b0 = B[:, 0]\n",
    "maxb = np.max(b0)\n",
    "np.where(b0 == maxb)[0][0]"
   ]
  },
  {
   "cell_type": "markdown",
   "id": "12be327e-41a9-4700-82b2-f78709585ce3",
   "metadata": {},
   "source": [
    "**Esercizio 28**   \n",
    "\n",
    "\n",
    "Scrivi una funzione border(m,n,visualizza=False) che:\n",
    "-      crea un array 2D di shape(m,n) che abbia tutti valori nulli\n",
    "-     imposta ad 1  i valori degli elementi sul bordo dell'array (prima ed ultima riga, prima e l'ultima colonna)\n",
    "-      Preveda un argomento di default che se impostato a True visualizza la matrice"
   ]
  },
  {
   "cell_type": "code",
   "execution_count": 7,
   "id": "34f75e87",
   "metadata": {},
   "outputs": [
    {
     "name": "stdout",
     "output_type": "stream",
     "text": [
      "[[1. 1. 1. 1. 1.]\n",
      " [1. 0. 0. 0. 1.]\n",
      " [1. 0. 0. 0. 1.]\n",
      " [1. 0. 0. 0. 1.]\n",
      " [1. 1. 1. 1. 1.]]\n"
     ]
    }
   ],
   "source": [
    "def border(m, n, visualizza=False):\n",
    "    arr = np.zeros((m, n))\n",
    "    arr[0,] = 1\n",
    "    arr[m-1:] = 1\n",
    "    arr[:,0] = 1\n",
    "    arr[:,n-1] = 1\n",
    "    if visualizza:\n",
    "        print(arr)\n",
    "\n",
    "border(5, 5, True)"
   ]
  },
  {
   "cell_type": "markdown",
   "id": "20e88028-91cf-4f99-90b9-5d2f8148b3a9",
   "metadata": {},
   "source": [
    "**Esercizio 29**\n",
    "\n",
    "Scrivi una funzione `visualizza(f,a,b)`che prende in input una lambda function f, gli estremi dell'intervallo [a,b] su cui è definita e la visualizzi in una finestra grafica\n",
    "\n",
    "Chaima la funzione passandogli la funzione f(x)=sin(2*$\\pi$*x), [a,b]=[0,2*$\\pi$]"
   ]
  },
  {
   "cell_type": "code",
   "execution_count": 15,
   "id": "e33a77fd",
   "metadata": {},
   "outputs": [
    {
     "data": {
      "image/png": "[encoded data removed]",
      "text/plain": [
       "<Figure size 640x480 with 1 Axes>"
      ]
     },
     "metadata": {},
     "output_type": "display_data"
    }
   ],
   "source": [
    "def visualizza(f, a, b):\n",
    "    domain = np.linspace(a, b, 100)\n",
    "    codomain = [f(x) for x in domain]\n",
    "    plt.plot(domain, codomain, 'r-')\n",
    "\n",
    "f = lambda x: sin(2 * pi * x)\n",
    "visualizza(f,0, 2*pi)"
   ]
  },
  {
   "cell_type": "markdown",
   "id": "c4e0b8d0-b590-4554-9954-7333715b3c63",
   "metadata": {},
   "source": [
    "**Esercizio 30**\n",
    "\n",
    "Scrivi una funzione `visualizza2(f,a,b,f2,a2,b2)`che prende in input una lambda function f e gli estremi dell'intervallo [a,b]  su cui è definita, una lambda function f2 e gli estremi dell'intervallo su cui è definita [a2,b2] e le visualizzi sulla stessa finestra grafica.\n",
    "\n",
    "Chaima la funzione passandogli  una funzione f(x) quadratica ed una funzione f2(x) exponenziale ed [a,b]=[0,2]"
   ]
  },
  {
   "cell_type": "code",
   "execution_count": 18,
   "id": "e67b133d-b095-44ad-a8c5-bcda330bacca",
   "metadata": {},
   "outputs": [
    {
     "data": {
      "image/png": "[encoded data removed]",
      "text/plain": [
       "<Figure size 640x480 with 2 Axes>"
      ]
     },
     "metadata": {},
     "output_type": "display_data"
    }
   ],
   "source": [
    "def visualizza2(f, a, b, f2, a2, b2):\n",
    "    #f\n",
    "    domain = np.linspace(a, b, 100)\n",
    "    codomain = [f(x) for x in domain]\n",
    "    #f2\n",
    "    domain2 = np.linspace(a2, b2, 100)\n",
    "    codomain2 = [f2(x) for x in domain2]\n",
    "    #plot1\n",
    "    plt.subplot(1, 2, 1)\n",
    "    plt.title(\"f\")\n",
    "    plt.plot(domain, codomain, 'r-')\n",
    "    #plot2\n",
    "    plt.subplot(1, 2, 2)\n",
    "    plt.title(\"f2\")\n",
    "    plt.plot(domain2, codomain2, 'r-')\n",
    "\n",
    "f = lambda x: x**2\n",
    "f2 = lambda x: e*x\n",
    "visualizza2(f, 0, 2, f2, 0, 2)"
   ]
  }
 ],
 "metadata": {
  "kernelspec": {
   "display_name": "Python 3 (ipykernel)",
   "language": "python",
   "name": "python3"
  },
  "language_info": {
   "codemirror_mode": {
    "name": "ipython",
    "version": 3
   },
   "file_extension": ".py",
   "mimetype": "text/x-python",
   "name": "python",
   "nbconvert_exporter": "python",
   "pygments_lexer": "ipython3",
   "version": "3.10.12"
  }
 },
 "nbformat": 4,
 "nbformat_minor": 5
}
