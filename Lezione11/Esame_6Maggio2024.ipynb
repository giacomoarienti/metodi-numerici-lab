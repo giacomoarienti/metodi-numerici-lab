{
 "cells": [
  {
   "cell_type": "code",
   "execution_count": 39,
   "id": "37f9aeda",
   "metadata": {},
   "outputs": [],
   "source": [
    "from scipy.io import loadmat\n",
    "import numpy as np\n",
    "import numpy.linalg as npl\n",
    "import scipy as sp\n",
    "import scipy.linalg as spl\n",
    "import matplotlib.pyplot as plt\n",
    "from math import cos, pi"
   ]
  },
  {
   "attachments": {},
   "cell_type": "markdown",
   "id": "77e97ec2-857d-44c0-8b7f-c9b2c436362e",
   "metadata": {},
   "source": [
    "## Esame di Metodi Numerici 6 Maggio 2024 \n",
    "\n",
    "## Esercizo 1\n",
    "- Si consideri il sistema lineare Ax=b, con A matrice e b termine noto memorizzati nel file ``'test_14_09_2023.mat'``.  Risolvere il sistema confrontando almeno due tra i metodi  visti  per utilizzare per risolvere il sistema lineare con tale matrice dei coefficienti. Confrontare i risultati dei vari metodi, e giustificare i loro comportamento utilizzando i risultati teorici visti a lezione.\n",
    "                                       [10 punti]\n",
    "                                         \n"
   ]
  },
  {
   "cell_type": "code",
   "execution_count": 30,
   "id": "2ee98272",
   "metadata": {},
   "outputs": [
    {
     "name": "stdout",
     "output_type": "stream",
     "text": [
      "m=400, n=400\n",
      "Percentuale elementi diversi da zero 1.2449999999999999\n",
      "Matrice simmetrica True\n",
      "Definita positiva True\n"
     ]
    },
    {
     "data": {
      "image/png": "[encoded data removed]",
      "text/plain": [
       "<Figure size 640x480 with 1 Axes>"
      ]
     },
     "metadata": {},
     "output_type": "display_data"
    }
   ],
   "source": [
    "dati = loadmat('test_06_05_2024.mat')\n",
    "A: np.matrix = dati[\"A\"]\n",
    "A=A.astype(float)\n",
    "b=dati[\"b\"]\n",
    "b=b.astype(float)\n",
    "\n",
    "# matrice quadrata\n",
    "n,m = A.shape\n",
    "print(f\"m={m}, n={n}\")\n",
    "\n",
    "# densa se il suo numero di elementi diverso da 0 > del 33%\n",
    "nz = np.count_nonzero(A) / (n*m)\n",
    "print(\"Percentuale elementi diversi da zero\", nz * 100)\n",
    "\n",
    "# visualizzazione matrice\n",
    "plt.spy(A)\n",
    "\n",
    "# simmetrica\n",
    "simmetrica = np.all(A == A.T)\n",
    "print(\"Matrice simmetrica\", simmetrica)\n",
    "\n",
    "# definita positiva, tutti autovalori reali e positivi\n",
    "# sono reali perchè la matrice è simmetrica\n",
    "# altro modo è il metodo di sylvester\n",
    "autovalori = npl.eigvals(A)\n",
    "def_pos = np.all(autovalori > 0)\n",
    "print(\"Definita positiva\", def_pos)\n",
    "\n",
    "# implementare almeno due metodi e confronta i risultati"
   ]
  },
  {
   "cell_type": "code",
   "execution_count": 35,
   "id": "d85bcc17",
   "metadata": {},
   "outputs": [],
   "source": [
    "def steepestdescent(A, b, x0, itmax, tol):\n",
    "\tn,m=A.shape\n",
    "\tif n!=m:\n",
    "\t\tprint(\"Matrice non quadrata\")\n",
    "\t\treturn [],[]\n",
    "\t\n",
    "   \t# inizializzare le variabili necessarie\n",
    "\tx = x0\n",
    "\t# calcolo residuo\n",
    "\tr = A@x-b\n",
    "\t# la prima direzione è -r\n",
    "\tp = -r\n",
    "\tit = 0\n",
    "\t\n",
    "\t# voglio che il valore calcolato Ax - b sia il più vicino possibile al valore esatto\n",
    "\tnb = np.linalg.norm(b, 2)\n",
    "\terrore = np.linalg.norm(r, 2) / nb\n",
    "\t\n",
    "\tvec_sol = [x]\n",
    "\tvet_r = [errore]\n",
    "\t \n",
    "\t# utilizzare il metodo del gradiente per trovare la soluzione\n",
    "\twhile it < itmax and errore >= tol:\n",
    "\t\tit += 1\n",
    "\t\t\n",
    "\t\t# ricalcolo alfa = <r, p> / <Ap, p>\n",
    "\t\tAp = A @ p\n",
    "\t\talpha = - (r.T @ p) / (p.T @ Ap)\n",
    "\t   \n",
    "\t   \t# ricalcolo la solzione x = x + alfa * p   \n",
    "\t\tx = x + alpha * p\n",
    "\t\tvec_sol.append(x)\n",
    "\t\t\n",
    "\t\t# ricalcolo la direzione\n",
    "\t\tr = r + alpha * Ap\n",
    "\t\tp = -r\n",
    "\t\n",
    "\t\terrore=np.linalg.norm(r) / nb\n",
    "\t\tvet_r.append(errore)\n",
    "\t \n",
    "\treturn x,vet_r,vec_sol,it\n",
    "\n",
    "\n",
    "def conjugate_gradient(A,b,x0,itmax,tol):\n",
    "\tn,m=A.shape\n",
    "\tif n!=m:\n",
    "\t\tprint(\"Matrice non quadrata\")\n",
    "\t\treturn [],[]\n",
    "\t\n",
    "\t\n",
    "\t# inizializzare le variabili necessarie\n",
    "\tx = x0\n",
    "\t\n",
    "\tr = A@x-b\n",
    "\tp = -r\n",
    "\tit = 0\n",
    "\t\n",
    "\tnb=np.linalg.norm(b)\n",
    "\terrore=np.linalg.norm(r)/nb\n",
    "\t\n",
    "\tvec_sol=[x0]\n",
    "\tvet_r=[errore]\n",
    "\t\n",
    "\t# utilizzare il metodo del gradiente coniugato per calcolare la soluzione\n",
    "\twhile errore >= tol and it < itmax:\n",
    "\t\tit=it+1\n",
    "\t\tAp= A @ p\n",
    "\n",
    "\t\t# alpha <r, p> / <Ap, p>\n",
    "\t\talpha = -(r.T @ p) / (p.T @ Ap)\n",
    "\t\tx = x + alpha * p\n",
    "\t\tvec_sol.append(x)\n",
    "\t\t\n",
    "\t\trtr_old = r.T @ r\n",
    "\t\tr = r + alpha * Ap\n",
    "\t\tgamma = (r.T @ r) / rtr_old \n",
    "\t\tp = -r + gamma * p\n",
    "\t\t\n",
    "\t\terrore = np.linalg.norm(r) / nb\n",
    "\t\tvet_r.append(errore)\n",
    "   \n",
    "\t\n",
    "\treturn x,vet_r,vec_sol,it"
   ]
  },
  {
   "cell_type": "code",
   "execution_count": 33,
   "id": "2313b4a7",
   "metadata": {},
   "outputs": [
    {
     "name": "stdout",
     "output_type": "stream",
     "text": [
      "Iterazioni steepestdesc: 74\n",
      "Iterazioni steepestdesc: 27\n"
     ]
    },
    {
     "data": {
      "text/plain": [
       "[<matplotlib.lines.Line2D at 0x203909b48d0>,\n",
       " <matplotlib.lines.Line2D at 0x20390b68750>]"
      ]
     },
     "execution_count": 33,
     "metadata": {},
     "output_type": "execute_result"
    },
    {
     "data": {
      "image/png": "[encoded data removed]",
      "text/plain": [
       "<Figure size 640x480 with 1 Axes>"
      ]
     },
     "metadata": {},
     "output_type": "display_data"
    }
   ],
   "source": [
    "x0 = np.zeros_like(b)\n",
    "it_max = 1000\n",
    "tol = 1e-8\n",
    "x_steep, err_steep, sol_steep, it_steep = steepestdescent(A, b, x0, it_max, tol)\n",
    "print(\"Iterazioni steepestdesc:\", it_steep)\n",
    "\n",
    "x_conj, err_conj, sol_conj, it_conj = conjugate_gradient(A, b, x0, it_max, tol)\n",
    "print(\"Iterazioni steepestdesc:\", it_conj)\n",
    "\n",
    "# grafico avanzamento per iterazione\n",
    "plt.semilogy(np.arange(it_conj + 1), err_conj, np.arange(it_steep + 1), err_steep)"
   ]
  },
  {
   "cell_type": "markdown",
   "id": "5d9e70b1",
   "metadata": {},
   "source": [
    "Si nota come il metodo del gradiente coniugato arriva alla soluzione in un numero minore di iterazione grazie alla scelta sua scelta della direzione p:\n",
    "- nel metodo del gradiente la direzione è scelta come l'antigradiente del sistema associato (ovvero meno il residuo r), per ogni iterazione sucessiva però la direzione risulterà ortogonale a quella precedente, il che crea un movimento a \"zig-zag\".\n",
    "- nel metodo del gradiente coniugato invece la direzione è scelta ... "
   ]
  },
  {
   "cell_type": "markdown",
   "id": "59c0d44a-0d01-44c1-b47f-9a155608f40b",
   "metadata": {},
   "source": [
    "- Data la matrice \n",
    "$$A=\\left[\n",
    "\\begin{array}{cccc}\n",
    "1 & 2 & 3 & 4\\\\\n",
    "2 & -4 & 6 & 8\\\\\n",
    "-1 & -2 & -3 & -1\\\\\n",
    "5 & 7 & 0 & 1\n",
    "\\end{array}\n",
    "\\right ],$$\n",
    "Richiamare le ipotesi sotto cui esiste la fattorizzazione di Gauss senza pivoting e scrivere un codice per  verificarle.\n",
    "\n",
    "                                                [2 punti]"
   ]
  },
  {
   "cell_type": "code",
   "execution_count": null,
   "id": "a0552ce6",
   "metadata": {},
   "outputs": [],
   "source": [
    "# ipotesi che A abbia tutti i determinanti dei minori principali di testa < 0\n",
    "\n",
    "# mal condizionata se condizionamento > 10^4\n",
    "# rappresenta il fattore amplificativo di piccoli errori su dati che si riflettono sulla soluzione"
   ]
  },
  {
   "cell_type": "markdown",
   "id": "bcbda924-2d3b-4357-bf34-cb936d3a4a87",
   "metadata": {
    "tags": []
   },
   "source": [
    "## Esercizio 2\n",
    "Scrivere uno script che calcoli il polinomio interpolante un insieme di punti $P_i =(x_i, y_i)$ $i = 0, ..., n $ nella forma di Lagrange, $n=5,10,15,18$\n",
    "\n",
    "- nodi $x_i$, punti equidistanti in un intervallo $[a, b]$,\n",
    "- nodi $x_i$, zeri dei polinomi di Chebyshev nell'intervallo $[a, b]$, ossia\n",
    "$$\n",
    "x_i = \\frac{(a + b)}{2}+\\frac{(b-a)}{2} \\, \\cos \\left(\n",
    "\\frac{(2i+1)\\pi}{2(n + 1)}\n",
    "\\right), \\quad  i =0, ..., n \n",
    "$$\n",
    "e $y_i = f(x_i)$ ottenuti dalla valutazione nei punti $x_i$ della funzione test   $f: \\ [a, b] \\rightarrow {\\mathbb R}$. \n",
    "- $f(x) = 1/(1+25*x^2)$,  $ \\quad x \\in [-1, 1]$ (funzione di Runge).\n",
    "\n",
    "                                        [6] punti"
   ]
  },
  {
   "cell_type": "code",
   "execution_count": 40,
   "id": "15231f02",
   "metadata": {},
   "outputs": [],
   "source": [
    "def plagr(xnodi,j):\n",
    "   \"\"\"\n",
    "   Restituisce i coefficienti del j-esimo pol di\n",
    "   Lagrange associato ai punti del vettore xnodi\n",
    "   \"\"\"\n",
    "   xzeri = np.zeros_like(xnodi)\n",
    "   n = xnodi.size\n",
    "   if j==0:\n",
    "      xzeri = xnodi[1:n]\n",
    "   else:\n",
    "      xzeri = np.append(xnodi[:j], xnodi[j+1:])\n",
    "\n",
    "   num = np.poly(xzeri) \n",
    "   den = np.polyval(num, xnodi[j])\n",
    "\n",
    "   p=num/den\n",
    "\n",
    "   return p"
   ]
  },
  {
   "cell_type": "code",
   "execution_count": 57,
   "id": "5d1846bc",
   "metadata": {},
   "outputs": [
    {
     "name": "stdout",
     "output_type": "stream",
     "text": [
      "[0.96592583 0.99862953 0.98768834 0.93358043 0.83867057 0.70710678]\n",
      "[0.04110943 0.0385631  0.03938837 0.04388022 0.05380913 0.07407407]\n"
     ]
    }
   ],
   "source": [
    "n = 5\n",
    "a = -1\n",
    "b = 1\n",
    "xi = lambda i: (a + b) / 2 + (b - a) / 2 * cos((2*i + 1)*pi / (2*(n + 1)))\n",
    "f = lambda x: 1 / (1 + 25 * x**2)\n",
    "\n",
    "interval = np.linspace(a, b, n+1)\n",
    "x = np.array([xi(i) for i in interval])\n",
    "print(x)\n",
    "y = np.array([f(xi) for xi in x])\n",
    "print(y)"
   ]
  },
  {
   "cell_type": "markdown",
   "id": "0c72a53b",
   "metadata": {},
   "source": [
    "\n",
    "- Calcolare l'errore di interpolazione $r(x) =  f(x)-pe(x) $,\n",
    "tra la funzione test $f(x)$ e il polinomio di interpolazione $pe(x)$ calcolato a partire da nodi equdisitanti.\n",
    "                                        [1] punto\n",
    "                                        \n",
    "Visualizzare il grafico di $f(x)$ e $pe(x)$, ed il grafico di $|r(x)|$ per ogni valore $n=5,10,15,18$ \n",
    "\n",
    "                                        [1] punto\n",
    "                                        \n",
    "Calcolare l'errore di interpolazione $r(x) =  f(x)-pc(x) $,\n",
    "tra la funzione test $f(x)$ e il polinomio di interpolazione $p(x)$ calcolato a partire da nodi di Chebichev.\n",
    "\n",
    "                                      [1] punto\n",
    "                                            \n",
    "Visualizzare il grafico di $f(x)$ e $pc(x)$, ed il grafico di $|r(x)|$. \n",
    "\n",
    "                                       [1] punto\n",
    "\n",
    "Cosa si osserva? Cosa accade all'aumentare del grado $n$ di $p(x)$? Scrivere la formula dell'errore che si compie quando al posto della funzione che ha generato i dati si considera il polinomio interpolatore di grado n e commentarla.\n",
    "                                         \n",
    "                                         [3 punti]"
   ]
  },
  {
   "cell_type": "code",
   "execution_count": 37,
   "id": "d71bb66f",
   "metadata": {},
   "outputs": [],
   "source": [
    "# E(x) = 1/(n+1)| * w_n+1(x) * f^(n+1)(esp)\n",
    "# w_n+1 = (x-x0)(x-x1)...(x-xn)"
   ]
  },
  {
   "cell_type": "markdown",
   "id": "d4239d5c-a24b-432f-9903-e5d5e67f0669",
   "metadata": {},
   "source": [
    "**Domanda AI**"
   ]
  },
  {
   "cell_type": "markdown",
   "id": "5721a2f9-b321-4904-a015-98e1ff91f89c",
   "metadata": {},
   "source": [
    "- Descrivere gli elementi caratterizzanti di un MultiLayer Perceptron (MLP).( Com'è fatto un neurone artificiale, a caso servono le funzioni di attivazione, come sono organizzati i neuroni. Varie tipologie di reti MLP)  ed accennare in cosa consiste la fase di forward propagation e la fase di backward propagation. **Punti: 1**\n",
    "\n",
    "- Ottimizzazione della loss function per il training di una rete neurale per il task di regressione: Metodo di discesa del gradiente, metodo stocastico del gradiente, metodo del gradiente minibatch.  **Punti 1**  \n",
    " - Non convessità della loss-function - come non rimanere bloccati in un monimo locale? Metodo del gradiente con momentum. **Punti 2**\n",
    "- Learning rate scheduling: step decay, decadimento esponenziale, decadimento dipendente dal tempo. **Punti 1**\n",
    " - Learning rate adattivo: Adagrad, RMSProp, Adadelta, Adam. **Punti 2**\n",
    " \n",
    " **Totale:  7**"
   ]
  },
  {
   "cell_type": "code",
   "execution_count": null,
   "id": "4f95c228-c321-4608-9f05-a6364a46465c",
   "metadata": {},
   "outputs": [],
   "source": []
  }
 ],
 "metadata": {
  "kernelspec": {
   "display_name": "Python 3 (ipykernel)",
   "language": "python",
   "name": "python3"
  },
  "language_info": {
   "codemirror_mode": {
    "name": "ipython",
    "version": 3
   },
   "file_extension": ".py",
   "mimetype": "text/x-python",
   "name": "python",
   "nbconvert_exporter": "python",
   "pygments_lexer": "ipython3",
   "version": "3.11.3"
  }
 },
 "nbformat": 4,
 "nbformat_minor": 5
}
