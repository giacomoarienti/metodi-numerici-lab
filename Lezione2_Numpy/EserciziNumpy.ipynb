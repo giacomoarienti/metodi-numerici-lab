{
 "cells": [
  {
   "cell_type": "code",
   "execution_count": 1,
   "id": "83b01e08",
   "metadata": {},
   "outputs": [],
   "source": [
    "import numpy as np"
   ]
  },
  {
   "cell_type": "markdown",
   "id": "cb8d7ec5-c308-4c91-8bbf-adad4c51b57f",
   "metadata": {},
   "source": [
    "# Esercizio 1"
   ]
  },
  {
   "cell_type": "markdown",
   "id": "b7c7f021-757d-4cd3-bba5-57ca8bfd4077",
   "metadata": {},
   "source": [
    "Definire i  numpy array a=[1.2, 5.4, 6, 1.59] e b=[5.2, 1.2, 1.5, 2] ed eseguire le seguenti operazioni:\n",
    "  - calcolare la radice quadrata degli elementi di a;\n",
    "   - calcolare 𝑒xp(𝑎/2) ;\n",
    "   - calcolare il vettore somma tra a e b ;\n",
    "   - moltiplicare ogni elemento di a per il corrispondente elemento di b;\n",
    "   - creare un vettore di valori uniformemente equispaziati tra 0 e 30 con passo  0.5;\n",
    "   - creare un vettore di 100 valori uniformemente equispaziati tra 1 e 2.\n",
    "   - usare linspace() per creare un numpy array 2x6 con prima riga di 6 valori uniformi compresi tra 10 e 20 e seconda riga 6 valori     \n",
    "      uniformi compresi tra  20 e 10;\n",
    "   - calcolare il prodotto scalare tra a e b;\n",
    "   - creare la matrice A che ha come righe i vettori a e b ;\n",
    "   - calcolare il prodotto scalare tra i due vettori a e b;\n",
    "   - eseguire il prodotto della matrice A per il vettore b e assegnarlo ad y;\n",
    "   - costruire una matrice diagonale D a partire dal vettore a;"
   ]
  },
  {
   "cell_type": "code",
   "execution_count": 33,
   "id": "2bf3f26b",
   "metadata": {},
   "outputs": [
    {
     "name": "stdout",
     "output_type": "stream",
     "text": [
      "sqrt: [1.09544512 2.32379001 2.44948974 1.26095202] [2.28035085 1.09544512 1.22474487 1.41421356]\n",
      "exp: [ 1.8221188  14.87973172 20.08553692  2.214441  ] [13.46373804  1.8221188   2.11700002  2.71828183]\n",
      "sum: [6.4  6.6  7.5  3.59]\n",
      "product: [6.24 6.48 9.   3.18]\n",
      "linspace: [ 0.   0.5  1.   1.5  2.   2.5  3.   3.5  4.   4.5  5.   5.5  6.   6.5\n",
      "  7.   7.5  8.   8.5  9.   9.5 10.  10.5 11.  11.5 12.  12.5 13.  13.5\n",
      " 14.  14.5 15.  15.5 16.  16.5 17.  17.5 18.  18.5 19.  19.5 20.  20.5\n",
      " 21.  21.5 22.  22.5 23.  23.5 24.  24.5 25.  25.5 26.  26.5 27.  27.5\n",
      " 28.  28.5 29.  29.5]\n",
      "linspace: [1.         1.01010101 1.02020202 1.03030303 1.04040404 1.05050505\n",
      " 1.06060606 1.07070707 1.08080808 1.09090909 1.1010101  1.11111111\n",
      " 1.12121212 1.13131313 1.14141414 1.15151515 1.16161616 1.17171717\n",
      " 1.18181818 1.19191919 1.2020202  1.21212121 1.22222222 1.23232323\n",
      " 1.24242424 1.25252525 1.26262626 1.27272727 1.28282828 1.29292929\n",
      " 1.3030303  1.31313131 1.32323232 1.33333333 1.34343434 1.35353535\n",
      " 1.36363636 1.37373737 1.38383838 1.39393939 1.4040404  1.41414141\n",
      " 1.42424242 1.43434343 1.44444444 1.45454545 1.46464646 1.47474747\n",
      " 1.48484848 1.49494949 1.50505051 1.51515152 1.52525253 1.53535354\n",
      " 1.54545455 1.55555556 1.56565657 1.57575758 1.58585859 1.5959596\n",
      " 1.60606061 1.61616162 1.62626263 1.63636364 1.64646465 1.65656566\n",
      " 1.66666667 1.67676768 1.68686869 1.6969697  1.70707071 1.71717172\n",
      " 1.72727273 1.73737374 1.74747475 1.75757576 1.76767677 1.77777778\n",
      " 1.78787879 1.7979798  1.80808081 1.81818182 1.82828283 1.83838384\n",
      " 1.84848485 1.85858586 1.86868687 1.87878788 1.88888889 1.8989899\n",
      " 1.90909091 1.91919192 1.92929293 1.93939394 1.94949495 1.95959596\n",
      " 1.96969697 1.97979798 1.98989899 2.        ]\n",
      "linspace 2x6: [[10. 12. 14. 16. 18. 20.]\n",
      " [20. 18. 16. 14. 12. 10.]]\n",
      "dot: 24.9\n",
      "matrix: [[1.2  5.4  6.   1.59]\n",
      " [5.2  1.2  1.5  2.  ]]\n",
      "dot: 24.9\n",
      "matrix dot: [24.9  34.73]\n",
      "diagonal: [[1.2  0.   0.   0.  ]\n",
      " [0.   5.4  0.   0.  ]\n",
      " [0.   0.   6.   0.  ]\n",
      " [0.   0.   0.   1.59]]\n"
     ]
    }
   ],
   "source": [
    "a = np.array([1.2, 5.4, 6, 1.59])\n",
    "b = np.array([5.2, 1.2, 1.5, 2])\n",
    "# sqrt\n",
    "print(\"sqrt:\", np.sqrt(a), np.sqrt(b))\n",
    "# exp\n",
    "print(\"exp:\", np.exp(a / 2), np.exp(b / 2))\n",
    "# sum\n",
    "print(\"sum:\", a + b)\n",
    "# product\n",
    "print(\"product:\", a * b)\n",
    "# linspace\n",
    "print(\"linspace:\", np.linspace(0, 30, 60, endpoint=False))\n",
    "# linspace\n",
    "print(\"linspace:\", np.linspace(1, 2, 100))\n",
    "# linspace 2x6\n",
    "print(\"linspace 2x6:\", np.array((np.linspace(10, 20, 6), np.linspace(20, 10, 6))))\n",
    "# dot\n",
    "print(\"dot:\", np.dot(a, b))\n",
    "# matrix\n",
    "A = np.array((a, b))\n",
    "print(\"matrix:\", A)\n",
    "# dot\n",
    "print(\"dot:\", np.dot(A[0], A[1]))\n",
    "# matrix dot\n",
    "print(\"matrix dot:\", np.dot(A, b))\n",
    "# diagonal\n",
    "print(\"diagonal:\", np.diag(a))"
   ]
  },
  {
   "cell_type": "markdown",
   "id": "70b6acab-85c5-4783-84e0-999ca8e68bf3",
   "metadata": {},
   "source": [
    "# Esercizio 2"
   ]
  },
  {
   "cell_type": "markdown",
   "id": "31345015-b8ec-4ea0-aaac-598630474855",
   "metadata": {},
   "source": [
    "Costruire  i seguenti Numpy array 2d utilizzando il minor numero di istruzioni possibili"
   ]
  },
  {
   "cell_type": "markdown",
   "id": "ccf86356-d50a-493c-a870-54c5cc1480eb",
   "metadata": {},
   "source": [
    "<img src=\"ese2.png\" width=\"500\">"
   ]
  },
  {
   "cell_type": "code",
   "execution_count": 84,
   "id": "de201d21",
   "metadata": {},
   "outputs": [
    {
     "name": "stdout",
     "output_type": "stream",
     "text": [
      "A:\n",
      " [[2 2 2 3]\n",
      " [2 2 2 3]\n",
      " [2 2 2 3]]\n",
      "B:\n",
      " [[ 2  0  0  1  2  3  4  5  6  7  8  9 10]\n",
      " [ 0  2  0  1  2  3  4  5  6  7  8  9 10]\n",
      " [ 0  0  2  1  2  3  4  5  6  7  8  9 10]]\n",
      "C:\n",
      " [[ 2 -1  0  0  0]\n",
      " [-1  2 -1  0  0]\n",
      " [ 0 -1  2 -1  0]\n",
      " [ 0  0 -1  2 -1]\n",
      " [ 0  0  0 -1  2]]\n",
      "D:\n",
      " [[2 2 3 3]\n",
      " [2 2 3 3]\n",
      " [0 0 0 0]\n",
      " [0 0 0 0]\n",
      " [0 0 5 0]\n",
      " [0 0 0 5]]\n"
     ]
    }
   ],
   "source": [
    "# A\n",
    "A = np.hstack((\n",
    "    np.full((3, 3), 2),\n",
    "    np.full((3, 1), 3)\n",
    "))\n",
    "print(\"A:\\n\", A)\n",
    "# B\n",
    "B = np.hstack((\n",
    "    np.eye(3, 3, dtype=int) * 2,\n",
    "    np.full((3, 10), np.arange(10) + 1)\n",
    "))\n",
    "print(\"B:\\n\", B)\n",
    "# C\n",
    "C = np.eye(5, 5, 1, dtype=int) * -1 \\\n",
    "    + np.eye(5, 5, dtype=int) * 2 \\\n",
    "    + np.eye(5, 5, -1, dtype=int) * -1\n",
    "print(\"C:\\n\", C)\n",
    "# D\n",
    "D = np.vstack((\n",
    "    np.hstack((\n",
    "        np.full((2, 2), 2),\n",
    "        np.full((2, 2), 3)\n",
    "    )),\n",
    "    np.diagflat([[0, 0], [5, 5]])\n",
    "))\n",
    "print(\"D:\\n\", D)"
   ]
  },
  {
   "cell_type": "markdown",
   "id": "10a6c66f-2a62-4697-ab7a-b897fb66bcc9",
   "metadata": {},
   "source": [
    "# Esercizio 3"
   ]
  },
  {
   "cell_type": "markdown",
   "id": "8354e8db-9393-41b5-92bf-7dbd9174a20c",
   "metadata": {},
   "source": [
    "Calcolare la somma dei primi n numeri naturali dispari sia utilizzando un ciclo for che servendosi dell'istruzione sum di numpy."
   ]
  },
  {
   "cell_type": "code",
   "execution_count": 90,
   "id": "39d057f0",
   "metadata": {},
   "outputs": [
    {
     "data": {
      "text/plain": [
       "25"
      ]
     },
     "execution_count": 90,
     "metadata": {},
     "output_type": "execute_result"
    }
   ],
   "source": [
    "N = 5\n",
    "arr = [a for a in range(N * 2) if a % 2 == 1]\n",
    "sum(arr)\n",
    "np.sum(arr)"
   ]
  },
  {
   "cell_type": "markdown",
   "id": "76da5e04-e555-4fee-bfd8-2df68d8996c9",
   "metadata": {},
   "source": [
    "# Esercizo 4"
   ]
  },
  {
   "cell_type": "markdown",
   "id": "5ecf31dd-d88c-46f8-b1b4-2e3b5988694e",
   "metadata": {},
   "source": [
    "Scrivere una function Python per generare l'n-esimo termine (n > 2) della successione\n",
    "di Fibonacci. Scrivere poi una function ricorsiva che risolva lo stesso problema\n",
    "e confrontare i tempi di calcolo delle due functions per n = 24."
   ]
  },
  {
   "cell_type": "markdown",
   "id": "35f3a2c2-b450-457d-9c71-5e81d0f6ea1f",
   "metadata": {},
   "source": [
    "Ricordiamo la formula per generare i i numeri di Fibonacci:\n",
    "\n",
    "$$F_0=1$$\n",
    "$$F_1=1$$\n",
    "$$F_n = F_{n-1} + F_{n-2}, \\quad n=2,...$$"
   ]
  },
  {
   "cell_type": "code",
   "execution_count": null,
   "id": "4a392cc9-7622-4454-b051-be4bfa3f15b6",
   "metadata": {},
   "outputs": [],
   "source": []
  }
 ],
 "metadata": {
  "kernelspec": {
   "display_name": "Python 3 (ipykernel)",
   "language": "python",
   "name": "python3"
  },
  "language_info": {
   "codemirror_mode": {
    "name": "ipython",
    "version": 3
   },
   "file_extension": ".py",
   "mimetype": "text/x-python",
   "name": "python",
   "nbconvert_exporter": "python",
   "pygments_lexer": "ipython3",
   "version": "3.10.12"
  }
 },
 "nbformat": 4,
 "nbformat_minor": 5
}
