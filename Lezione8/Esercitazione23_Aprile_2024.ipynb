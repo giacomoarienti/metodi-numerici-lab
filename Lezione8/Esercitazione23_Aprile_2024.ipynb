{
 "cells": [
  {
   "cell_type": "markdown",
   "id": "d2903ef7-4c36-4b4f-b8dd-01fa2f35dfc5",
   "metadata": {},
   "source": [
    "## Esercitazione 8  del    23 Aprile 2024\n"
   ]
  },
  {
   "cell_type": "markdown",
   "id": "f7105091-a87d-4561-bb63-c8ac815faf37",
   "metadata": {},
   "source": [
    "## Condizionamento del problema della soluzione di un sistema lineare"
   ]
  },
  {
   "cell_type": "code",
   "execution_count": 1,
   "id": "bcf02737",
   "metadata": {},
   "outputs": [],
   "source": [
    "import numpy as np\n",
    "import scipy as sp\n",
    "import scipy.linalg as spl\n",
    "import numpy.linalg as npl\n",
    "from  SolveTriangular import *"
   ]
  },
  {
   "cell_type": "markdown",
   "id": "2b2f0afd-9374-4f8e-8a7b-eb783ba28fd4",
   "metadata": {},
   "source": [
    "# Esercizio 1\n",
    "- Costruire la matrice di Vandermonde A, generata dal vettore x=[1.0,2.0,...,6.0] utilizzando la funzione np.vander(x, increasing=True) di numpy. \n",
    "- Calcolarne l'indice di condizionamento in norma infinito senza utilizzare la funzione cond di numpy.linalg e poi confrontarne il valore con quello ottenuto utilizzando la funzione.\n",
    "- Considerare il sistema lineare Ax=b  con matrice dei coefficienti A e termine noto costruito in maniera tale che la soluzione esatta sia il vettore x=[1,1,1,1,1,1] (ogni sua componente è 1) e risolverlo usando il metodo solve del modulo linalg di Scipy.\n",
    "- perturbare il vettore dei termini noti della quantità\n",
    "$$\n",
    "\\delta b = 0.025 \\, \\ast \\,\n",
    "\\left [\n",
    "\\begin{array}{c}\n",
    "1\\\\\n",
    "0\\\\\n",
    "0\\\\\n",
    "0\n",
    "\\end{array}\n",
    "\\right ]\n",
    "$$\n",
    "- Risolvere il sistema con termine noto pertubato $b + \\delta b$ ((usando il metodo solve del modulo linalg di Scipy).\n",
    "- Calcolare l'errore relativo sul termine noto e l'errore relativo sulla soluzione. Cosa si può concludere?\n",
    "\n",
    "N.B. per il calcolo dell'inversa della matrice di A usare la funzione di numpy.linalg.inv(A).\n"
   ]
  },
  {
   "cell_type": "code",
   "execution_count": 42,
   "id": "3f4eca47",
   "metadata": {},
   "outputs": [],
   "source": [
    "x = np.arange(1.0, 7.0)\n",
    "A = np.vander(x, increasing=True)"
   ]
  },
  {
   "cell_type": "code",
   "execution_count": 41,
   "id": "9cd88562",
   "metadata": {},
   "outputs": [
    {
     "name": "stdout",
     "output_type": "stream",
     "text": [
      "soluzione: [[1.]\n",
      " [1.]\n",
      " [1.]\n",
      " [1.]\n",
      " [1.]\n",
      " [1.]]\n"
     ]
    }
   ],
   "source": [
    "# termini noti uguali alla somma dei coefficienti\n",
    "# la soluzione sarà tutti 1\n",
    "b = np.sum(A, axis=1).reshape(6, 1)\n",
    "x = spl.solve(A, b)\n",
    "print(\"soluzione:\", x)"
   ]
  },
  {
   "cell_type": "code",
   "execution_count": 38,
   "id": "4ed06f0b",
   "metadata": {},
   "outputs": [
    {
     "name": "stdout",
     "output_type": "stream",
     "text": [
      "errore relativo sui dati: 2.679241238881187e-06\n"
     ]
    }
   ],
   "source": [
    "# perturbo b\n",
    "bp = b.copy()\n",
    "bp[0] = bp[0] + 0.025\n",
    "\n",
    "# calcolo errore relativo sui dati\n",
    "errore_dati = npl.norm(bp - b, np.inf) / npl.norm(b, np.inf)\n",
    "print(\"errore relativo sui dati:\", errore_dati)"
   ]
  },
  {
   "cell_type": "code",
   "execution_count": 44,
   "id": "557d5076",
   "metadata": {},
   "outputs": [
    {
     "name": "stdout",
     "output_type": "stream",
     "text": [
      "soluzione: [[1.15      ]\n",
      " [0.7825    ]\n",
      " [1.12083333]\n",
      " [0.96770833]\n",
      " [1.00416667]\n",
      " [0.99979167]]\n",
      "errore relativo sulla soluzione: 2.7174999999923224\n"
     ]
    }
   ],
   "source": [
    "# calcolo errore relativo sulla soluzione\n",
    "xp = spl.solve(A, bp)\n",
    "errore_soluzione = npl.norm(xp - x, np.inf) / npl.norm(x, np.inf)\n",
    "\n",
    "print(\"soluzione:\", xp)\n",
    "print(\"errore relativo sulla soluzione:\", errore_soluzione)"
   ]
  },
  {
   "cell_type": "code",
   "execution_count": 51,
   "id": "5c42e834",
   "metadata": {},
   "outputs": [
    {
     "name": "stdout",
     "output_type": "stream",
     "text": [
      "K(A): 1204321.0666666434\n"
     ]
    }
   ],
   "source": [
    "# si vede che il problema è mal condizionato\n",
    "# calcolo indice di condizionamento\n",
    "KA = npl.cond(A, np.inf)\n",
    "print(\"K(A):\", KA)"
   ]
  },
  {
   "cell_type": "markdown",
   "id": "1fad1579-04c4-4aae-a840-2ab3120aaf2e",
   "metadata": {},
   "source": [
    "## Esercizio 2\n",
    "Assegnato il sistema lineare $Ax = b$, con\n",
    "$$\n",
    "A =\n",
    "\\left [\n",
    "\\begin{array}{ccc}\n",
    "6 & 63 & 662.2\\\\\n",
    "63 & 662.2 & 6967.8\\\\\n",
    "662.2 & 6967.8 & 73393.5664\n",
    "\\end{array}\n",
    "\\right ], \\qquad\n",
    "b =\n",
    "\\left [\n",
    "\\begin{array}{c}\n",
    "1.1\\\\\n",
    "2.33\\\\\n",
    "1.7\n",
    "\\end{array}\n",
    "\\right ]\n",
    "$$\n",
    "- trovare il vettore soluzione $x$ (usando il metodo solve del modulo linalg di Scipy);\n",
    "- perturbare la matrice dei coefficienti della quantità\n",
    "$$\n",
    "\\delta A =\n",
    "0.01 \\, \\ast \\,\n",
    "\\left [ \\begin{array}{ccc}\n",
    "1 & 0 & 0\\\\\n",
    "0 & 0 & 0\\\\\n",
    "0 & 0 & 0\n",
    "\\end{array}\n",
    "\\right ]\n",
    "$$\n",
    "quindi calcolare l'errore relativo sulla soluzione e confrontarlo con la\n",
    "perturbazione relativa sui dati di ingresso. Cosa si osserva?"
   ]
  },
  {
   "cell_type": "code",
   "execution_count": 68,
   "id": "38d8de58",
   "metadata": {},
   "outputs": [],
   "source": [
    "A = np.array([\n",
    "    [6, 63, 662.2],\n",
    "    [63, 662.2, 6967.8],\n",
    "    [662.2, 6967.8, 73393.5664]\n",
    "])\n",
    "b = np.array([1.1, 2.33, 1.7]).reshape(3, 1)"
   ]
  },
  {
   "cell_type": "code",
   "execution_count": 69,
   "id": "77f03ea2",
   "metadata": {},
   "outputs": [
    {
     "name": "stdout",
     "output_type": "stream",
     "text": [
      "soluzione: [[136422.33746479]\n",
      " [-25999.49954686]\n",
      " [  1237.44419611]]\n"
     ]
    }
   ],
   "source": [
    "# calcolo soluzione del sistema\n",
    "x = spl.solve(A, b)\n",
    "print(\"soluzione:\", x)"
   ]
  },
  {
   "cell_type": "code",
   "execution_count": 100,
   "id": "2ab2bf54",
   "metadata": {},
   "outputs": [
    {
     "name": "stdout",
     "output_type": "stream",
     "text": [
      "errore relativo sui dati: 0.0005431254465935684\n"
     ]
    }
   ],
   "source": [
    "# perturbo la matrice dei coefficenti\n",
    "dA = np.zeros((3, 3))\n",
    "dA[0][0] = 1 * 0.01\n",
    "Ap = A + dA\n",
    "\n",
    "# calcolo errore relativo sui dati\n",
    "errore_dati = npl.norm(dA, np.inf) / npl.norm(A)\n",
    "print(\"errore relativo sui dati:\", errore_dati)"
   ]
  },
  {
   "cell_type": "code",
   "execution_count": 81,
   "id": "b0061bae",
   "metadata": {},
   "outputs": [
    {
     "name": "stdout",
     "output_type": "stream",
     "text": [
      "soluzione perturbata: [[67.09867276]\n",
      " [-9.66739506]\n",
      " [ 0.3124175 ]]\n",
      "errore relativo sulla soluzione: 0.9995081547933965\n"
     ]
    }
   ],
   "source": [
    "# calcolo soluzione perturbata e errrore relativo\n",
    "xp = spl.solve(Ap, b)\n",
    "errore_soluzione = npl.norm(x - xp, np.inf) / npl.norm(x, np.inf)\n",
    "\n",
    "print(\"soluzione perturbata:\", xp)\n",
    "print(\"errore relativo sulla soluzione:\", errore_soluzione)"
   ]
  },
  {
   "cell_type": "markdown",
   "id": "3fd35cbb-3eaa-4674-91ff-cf7148cac8b8",
   "metadata": {},
   "source": [
    "## Esercizio 3\n",
    " \n",
    "Assegnato il sistema lineare $Ax = b$, con $A$ matrice di Hilbert di ordine\n",
    "$4$ e $b = [1, 1, 1, 1]^T$,\n",
    " - trovare il vettore soluzione $x$ (usando il metodo solve del modulo linalg di Scipy);\n",
    " -  perturbare il vettore dei termini noti della quantità\n",
    "$$\n",
    "\\delta b = 0.01 \\, \\ast \\,\n",
    "\\left [\n",
    "\\begin{array}{c}\n",
    "1\\\\\n",
    "-1\\\\\n",
    "1\\\\\n",
    "-1\n",
    "\\end{array}\n",
    "\\right ]\n",
    "$$\n",
    "quindi calcolare la soluzione del sistema $A x_p= b_p$ con termine noto $b_p=b+ \\delta b$.\n",
    "Calcolare l'errore relativo sulla soluzione e confrontarlo con la perturbazione relativa sui dati di ingresso. Cosa si osserva?\n",
    "\n",
    "Nota: per la costruzione della matrice di Hilbert usare la funzione hilbert(n) del modulo scipy.linalg\n",
    "(scipy.linalg.hilbert(n))  dove bisogna specificare l'ordine n della matrice."
   ]
  },
  {
   "cell_type": "code",
   "execution_count": 64,
   "id": "208d4a77",
   "metadata": {},
   "outputs": [
    {
     "name": "stdout",
     "output_type": "stream",
     "text": [
      "A: [[1.         0.5        0.33333333 0.25      ]\n",
      " [0.5        0.33333333 0.25       0.2       ]\n",
      " [0.33333333 0.25       0.2        0.16666667]\n",
      " [0.25       0.2        0.16666667 0.14285714]]\n"
     ]
    }
   ],
   "source": [
    "n = 4\n",
    "b = np.full((n, 1), 1)\n",
    "# Aij = 1/(i+j-1)  con i,j=1,...,n\n",
    "A = spl.hilbert(4)\n",
    "\n",
    "print(\"A:\", A)"
   ]
  },
  {
   "cell_type": "code",
   "execution_count": 56,
   "id": "54c7a471",
   "metadata": {},
   "outputs": [
    {
     "name": "stdout",
     "output_type": "stream",
     "text": [
      "soluzione: [[  -4.]\n",
      " [  60.]\n",
      " [-180.]\n",
      " [ 140.]]\n"
     ]
    }
   ],
   "source": [
    "# calcolo soluzione\n",
    "x = spl.solve(A, b)\n",
    "print(\"soluzione:\", x)"
   ]
  },
  {
   "cell_type": "code",
   "execution_count": 65,
   "id": "55c96c82",
   "metadata": {},
   "outputs": [
    {
     "name": "stdout",
     "output_type": "stream",
     "text": [
      "b perturbato: [[1.01]\n",
      " [0.99]\n",
      " [1.01]\n",
      " [0.99]]\n",
      "errore relativo sui dati: 0.005\n"
     ]
    }
   ],
   "source": [
    "# calcolo delta b e b perturbato\n",
    "db = np.array([1, -1, 1, -1]).reshape(4, 1) * 0.01\n",
    "bp = b.copy()\n",
    "bp = b + db\n",
    "print(\"b perturbato:\", bp)\n",
    "\n",
    "# calcolo errore relativo sui dati\n",
    "errore_dati = npl.norm(db, np.inf) / npl.norm(b)\n",
    "print(\"errore relativo sui dati:\", errore_dati)"
   ]
  },
  {
   "cell_type": "code",
   "execution_count": 66,
   "id": "a2d6b2e3",
   "metadata": {},
   "outputs": [
    {
     "name": "stdout",
     "output_type": "stream",
     "text": [
      "soluzione perturbata: [[  1.16]\n",
      " [  3.  ]\n",
      " [-43.8 ]\n",
      " [ 51.8 ]]\n",
      "errore relativo sulla soluzione: 0.7566666666666719\n"
     ]
    }
   ],
   "source": [
    "# calcolo soluzione perturbata e errrore relativo\n",
    "xp = spl.solve(A, bp)\n",
    "errore_soluzione = npl.norm(x - xp, np.inf) / npl.norm(x, np.inf)\n",
    "\n",
    "print(\"soluzione perturbata:\", xp)\n",
    "print(\"errore relativo sulla soluzione:\", errore_soluzione)"
   ]
  },
  {
   "cell_type": "markdown",
   "id": "b1d646aa-f01a-4754-85e0-8803dc40b54f",
   "metadata": {},
   "source": [
    "## Metodi diretti per la soluzione numerica di un sistema lineare"
   ]
  },
  {
   "cell_type": "markdown",
   "id": "d49457b8-af07-4729-a33a-dc93547c1a20",
   "metadata": {},
   "source": [
    "## Nota 1.\n",
    "La funzione *scipy.linalg.lu(A)*  , presa in input una matrice A a rango massimo, restituisce in output le matrici $P^T$,L,U,  della fattorizzazione di LU della matrice A in maniera tale che PA=LU (restituisce la matrice di permutazione trasposta)"
   ]
  },
  {
   "cell_type": "code",
   "execution_count": 1,
   "id": "6164dfcc-4ff8-4d35-9ba3-59cae1f5189e",
   "metadata": {},
   "outputs": [
    {
     "name": "stdout",
     "output_type": "stream",
     "text": [
      "A= [[2 1]\n",
      " [3 4]]\n",
      "L= [[1.         0.        ]\n",
      " [0.66666667 1.        ]]\n",
      "U= [[ 3.          4.        ]\n",
      " [ 0.         -1.66666667]]\n",
      "P= [[0. 1.]\n",
      " [1. 0.]]\n",
      "Matrice P*A \n",
      " [[3. 4.]\n",
      " [2. 1.]]\n",
      "Matrice ottenuta moltipicando Le ed U \n",
      " [[3. 4.]\n",
      " [2. 1.]]\n"
     ]
    }
   ],
   "source": [
    "A = np.array([[2,1],[3,4]])\n",
    "PT, L , U = spl.lu(A) # Restituisce in output la trasposta della matrice di Permutazione\n",
    "P = PT.T.copy() # P è la matrice di permutazione\n",
    "print(\"A=\", A)\n",
    "print(\"L=\", L)\n",
    "print(\"U=\", U)\n",
    "print(\"P=\", P)\n",
    "\n",
    "# LU è la fattorizzazione di P*A (terorema 2)\n",
    "A1 = P @ A # equivale al prodotto matrice x matrice np.dot(P,A)\n",
    "A1Fatt = L @ U # equivale a np.dot(L,U)\n",
    "print(\"Matrice P*A \\n\", A1)\n",
    "print(\"Matrice ottenuta moltipicando Le ed U \\n\", A1Fatt)\n"
   ]
  },
  {
   "cell_type": "markdown",
   "id": "76f8f316-d9af-4596-9eed-5aa64f913f1f",
   "metadata": {},
   "source": [
    "## Nota 2\n",
    "La funzione *scipy.linalg.cholesky(a, lower=True)*, presa in input una matrice simmetrica e definta positiva restituisce in output la matrice L triangolare inferiore tale che $A=L \\cdot L^T$. Se la matrice in input non è definita positiva, restituisce un errore."
   ]
  },
  {
   "cell_type": "code",
   "execution_count": 38,
   "id": "162e3ab4-4a37-43d4-9727-6f032595449f",
   "metadata": {},
   "outputs": [
    {
     "name": "stdout",
     "output_type": "stream",
     "text": [
      "[[ 2  1  3]\n",
      " [ 1  5  7]\n",
      " [ 3  7 12]]\n"
     ]
    }
   ],
   "source": [
    "A = np.array([[2,1,3],[1,5,7],[3,7,12]])\n",
    "print(A)"
   ]
  },
  {
   "cell_type": "code",
   "execution_count": 39,
   "id": "96fd572b-f470-4436-aea2-0bb5da4fdd23",
   "metadata": {},
   "outputs": [
    {
     "name": "stdout",
     "output_type": "stream",
     "text": [
      "[[1.41421356 0.         0.        ]\n",
      " [0.70710678 2.12132034 0.        ]\n",
      " [2.12132034 2.59272486 0.8819171 ]]\n",
      "A1=\n",
      " [[ 2.  1.  3.]\n",
      " [ 1.  5.  7.]\n",
      " [ 3.  7. 12.]]\n"
     ]
    }
   ],
   "source": [
    "L = spl.cholesky(A,lower=True)\n",
    "print(L)\n",
    "A1 = L @ L.T\n",
    "print(\"A1=\\n\",A1)"
   ]
  },
  {
   "cell_type": "markdown",
   "id": "6760f2a0-ffec-49a1-96f7-ed643109e4d7",
   "metadata": {},
   "source": [
    "## Nota 3\n",
    "La funzione *scipy.linalg.qr(a)*, presa in input una matrice A (nxn)  a rango massimo, restituisce in output le matrici Q (ortogonale di dimensione nxn) ed una matrice R (nxn) triangolare superiore tale che $A=Q \\cdot R$"
   ]
  },
  {
   "cell_type": "code",
   "execution_count": 40,
   "id": "e336d0a6-f2c3-4a7b-a8e3-871e70ca917c",
   "metadata": {},
   "outputs": [
    {
     "name": "stdout",
     "output_type": "stream",
     "text": [
      "Q= [[-0.53452248  0.6882472  -0.49051147]\n",
      " [-0.26726124 -0.6882472  -0.67445327]\n",
      " [-0.80178373 -0.22941573  0.55182541]]\n",
      "R= [[ -3.74165739  -7.48331477 -13.09580085]\n",
      " [  0.          -4.35889894  -5.50597761]\n",
      " [  0.           0.           0.42919754]]\n",
      "[[ 2.  1.  3.]\n",
      " [ 1.  5.  7.]\n",
      " [ 3.  7. 12.]]\n"
     ]
    }
   ],
   "source": [
    "A = np.array([[2,1,3],[1,5,7],[3,7,12]])\n",
    "Q, R = spl.qr(A)\n",
    "print(\"Q=\", Q)\n",
    "print(\"R=\", R)\n",
    "A1 = Q @ R\n",
    "print(A1)"
   ]
  },
  {
   "cell_type": "markdown",
   "id": "270ae20e-08a7-4ab4-a710-c4541a398ec1",
   "metadata": {},
   "source": [
    "## Esercizio 4\n",
    "- si implementi una function LUsolve(P,A,L,U,b) che risolve il sistema lineare Ax=b nel caso di fattorizzazione $PA = LU$ assegnata,\n",
    "combinando i metodi di risoluzione in avanti ed all'indietro  implementati nel file SolveTriangular.py.\n",
    "- si testi sulla matrice A = np.array([[2, 5, 8, 7], [5, 2, 2, 8], [7, 5, 6, 6], [5, 4, 4, 8]]) con termine noto b scelto in maniera tale che la soluzione esatta del sistema lineare sia il vettore formato da tutti 1."
   ]
  },
  {
   "cell_type": "code",
   "execution_count": 92,
   "id": "0a2835f5",
   "metadata": {},
   "outputs": [
    {
     "name": "stdout",
     "output_type": "stream",
     "text": [
      "soluzione: [[1.]\n",
      " [1.]\n",
      " [1.]\n",
      " [1.]]\n"
     ]
    }
   ],
   "source": [
    "\"\"\"\n",
    "risolve il sistema\n",
    "triangolare inferirore: Ly = Pb\n",
    "trianfolare superiore: Ux = y\n",
    "\"\"\"\n",
    "def LUsolve(P, A, L, U, b):\n",
    "    y, flag = Lsolve(L, P @ b)\n",
    "    if flag == 0:\n",
    "        return Usolve(U, y)\n",
    "    else:\n",
    "        return None, None"
   ]
  },
  {
   "cell_type": "code",
   "execution_count": null,
   "id": "4a612576",
   "metadata": {},
   "outputs": [],
   "source": [
    "A = np.array([[2, 5, 8, 7], [5, 2, 2, 8], [7, 5, 6, 6], [5, 4, 4, 8]])\n",
    "#  b scelto in maniera tale che la soluzione esatta del sistema lineare sia il vettore formato da tutti 1.\n",
    "b = np.sum(A, axis=1).reshape(4, 1)\n",
    "\n",
    "PT, L, U = spl.lu(A) # calcola la fattorizzazone LU della matrice PA\n",
    "P = PT.T.copy() # restituisce la matrice di permutazione trasposta\n",
    "x, flag = LUsolve(P, A, L, U, b)\n",
    "\n",
    "print(\"soluzione:\", x)"
   ]
  },
  {
   "cell_type": "markdown",
   "id": "daa94c30-7b43-4ab5-896b-f2b2409a8a56",
   "metadata": {},
   "source": [
    "## Esercizio 5\n",
    "Si implementi una function *solve_nsis(A,B)* per il calcolo della soluzione di un generale sistema lineare $AX = B$, con $X, B$ matrici, che usi la fattorizzazione LU della matrice PA, per risolvere n sistemi lineari: aventi la stessa matrice dei coefficienti A e termine noto l'i-esima colonna della matrice B. \n",
    "Utilizzarla poi per il calcolo dell'inversa delle\n",
    "matrici non singolari\n",
    "$$\n",
    "A=\\left[\n",
    "\\begin{array}{ccc}\n",
    "3 & 5 & 7\\\\\n",
    "2 & 3 & 4\\\\\n",
    "5 & 9 & 11\n",
    "\\end{array}\n",
    "\\right ], \\qquad\n",
    "A=\\left[\n",
    "\\begin{array}{cccc}\n",
    "1 & 2 & 3 & 4\\\\\n",
    "2 & -4 & 6 & 8\\\\\n",
    "-1 & -2 & -3 & -1\\\\\n",
    "5 & 7 & 0 & 1\n",
    "\\end{array}\n",
    "\\right ],\n",
    "$$\n",
    "confrontando i risultati ottenuti con l'output\n",
    "della funzione  *scipy.linalg.inv(A)*"
   ]
  },
  {
   "cell_type": "code",
   "execution_count": 141,
   "id": "5bb35d1f",
   "metadata": {},
   "outputs": [
    {
     "name": "stdout",
     "output_type": "stream",
     "text": [
      "soluzione: [[-1.5  4.  -0.5]\n",
      " [-1.  -1.   1. ]\n",
      " [ 1.5 -1.  -0.5]]\n",
      "inv: [[-1.5  4.  -0.5]\n",
      " [-1.  -1.   1. ]\n",
      " [ 1.5 -1.  -0.5]]\n"
     ]
    }
   ],
   "source": [
    "\"\"\"\n",
    "risolve n sistemi dati dalla matrice B\n",
    "\"\"\"\n",
    "def solve_nsis(A: np.matrix, B: np.matrix):\n",
    "    solves = np.zeros(A.shape)\n",
    "    \n",
    "    # fattorizzo A\n",
    "    PT, L, U = spl.lu(A) # calcola la fattorizzazone LU della matrice PA\n",
    "    P = PT.T.copy() # restituisce la matrice di permutazione trasposta\n",
    "    \n",
    "    for i in range(len(B)):\n",
    "        b = B[:,i] # i-esima colonna\n",
    "        x, flag = LUsolve(P, A, L, U, b)\n",
    "        solves[:,i] = x.reshape(3,) # assegno x alla i-esima colonna delle soluzioni\n",
    "        \n",
    "    return solves\n",
    "\n",
    "A = np.array([\n",
    "    [3, 5, 7],\n",
    "    [2, 3, 4],\n",
    "    [5, 9, 11]\n",
    "])\n",
    "B = np.identity(A.shape[0])\n",
    "\n",
    "x = solve_nsis(A, B)\n",
    "inv = spl.inv(A)\n",
    "print(\"soluzione:\", x)\n",
    "print(\"inv:\", inv)"
   ]
  },
  {
   "cell_type": "markdown",
   "id": "412ae29a-6a32-43e0-9456-e7677f695feb",
   "metadata": {},
   "source": [
    "## Esercizio 6\n",
    "Sfruttando la fattorizzazione PA=LU  di una delle matrici del punto precedente, calcolarne il determinante.\n"
   ]
  },
  {
   "cell_type": "code",
   "execution_count": 20,
   "id": "a81fe6df",
   "metadata": {},
   "outputs": [
    {
     "data": {
      "text/plain": [
       "array([[ 3.,  5.,  7.],\n",
       "       [ 2.,  3.,  4.],\n",
       "       [ 5.,  9., 11.]])"
      ]
     },
     "execution_count": 20,
     "metadata": {},
     "output_type": "execute_result"
    }
   ],
   "source": [
    "A = np.array([\n",
    "    [3, 5, 7],\n",
    "    [2, 3, 4],\n",
    "    [5, 9, 11]\n",
    "])\n",
    "A.astype(float)"
   ]
  },
  {
   "cell_type": "code",
   "execution_count": 25,
   "id": "eeaab02b",
   "metadata": {},
   "outputs": [
    {
     "name": "stdout",
     "output_type": "stream",
     "text": [
      "detA: 1.9999999999999996\n",
      "detA: 1.9999999999999996\n"
     ]
    }
   ],
   "source": [
    "PT, L, U = spl.lu(A) # calcola la fattorizzazone LU della matrice PA\n",
    "P = PT.T.copy() # restituisce la matrice di permutazione trasposta\n",
    "\n",
    "s = 1\n",
    "detA = -1**s * U.diagonal().prod()\n",
    "print(\"detA:\", detA)\n",
    "print(\"detA:\", npl.det(A))"
   ]
  },
  {
   "cell_type": "markdown",
   "id": "8b359b50-ef2b-4a62-8623-b4cba6a31468",
   "metadata": {},
   "source": [
    "## Esercizio 7\n",
    "Per valori di $n = 4 : 6 : 40$, si consideri il sistema lineare $A_n x = b$ con\n",
    "$A_n$ matrice di Hankel di ordine $n$ di elementi\n",
    "$$\n",
    "a^{(n)}_{i,n+k-i}\n",
    "=\n",
    "\\left \\{\n",
    "\\begin{array}{ll}\n",
    "2^k & \\hbox{se} \\ k > 0,\\\\\n",
    "2^{1/(2-k)} & \\hbox{se} \\ k \\leq 0,\n",
    "\\end{array}\n",
    "\\right .\n",
    "\\qquad\n",
    "i = 1, ..., n, \\ \\  k = i + 1-n, ..., i,\n",
    "$$\n",
    "e $b$ scelto in modo che risulti $x = [1, 1, ..., 1]^T$. Si risolva tale sistema\n",
    "con il metodo di fattorizzazione LU della matrice PA\n",
    "e il metodo di fattorizzazione QR (Q,R  =scipy.linalg.qr(A)).\n",
    "Calcolare gli errori relativi $\\| \\delta x \\|_2/\\|x\\|_2$ da cui sono affette\n",
    "le soluzioni calcolate con i due metodi e produrre, al variare di $n$, un\n",
    "grafico in scala logaritmica ( matplotlib.plyplot.loglog) degli errori relativi calcolati. Che cosa si\n",
    "osserva?\n",
    "\n",
    "NB: per il calcolo della matrice di Hankel utilizzare la function "
   ]
  },
  {
   "cell_type": "code",
   "execution_count": 93,
   "id": "d5e324f7-cf4e-487d-9226-334b78174dfc",
   "metadata": {},
   "outputs": [],
   "source": [
    "def Hankel(n):\n",
    "    A = np.zeros((n,n),dtype=float)\n",
    "    for i in range(0,n):\n",
    "        for k in range(i+1-n,i+1):\n",
    "            if k > 0:\n",
    "                A[i,n-1+k-i] = 2.0**(k+1)\n",
    "            else:\n",
    "                A[i,n-1+k-i] = 2.0**(1/(2-k-1))\n",
    "    return A"
   ]
  },
  {
   "cell_type": "code",
   "execution_count": 144,
   "id": "fe9f2b61",
   "metadata": {},
   "outputs": [
    {
     "name": "stdout",
     "output_type": "stream",
     "text": [
      "A: [[ 1.18920712  1.25992105  1.41421356  2.        ]\n",
      " [ 1.25992105  1.41421356  2.          4.        ]\n",
      " [ 1.41421356  2.          4.          8.        ]\n",
      " [ 2.          4.          8.         16.        ]]\n",
      "b: [[ 5.86334173]\n",
      " [ 8.67413461]\n",
      " [15.41421356]\n",
      " [30.        ]]\n",
      "x: [[1.]\n",
      " [1.]\n",
      " [1.]\n",
      " [1.]]\n"
     ]
    }
   ],
   "source": [
    "n = 4\n",
    "A = Hankel(n)\n",
    "b = np.sum(A, axis=1).reshape(n, 1)\n",
    "x = np.full((n, 1), 1.0).reshape(n, 1)\n",
    "\n",
    "print(\"A:\", A)\n",
    "print(\"b:\", b)\n",
    "print(\"x:\", x)"
   ]
  },
  {
   "cell_type": "code",
   "execution_count": 145,
   "id": "39db46a9",
   "metadata": {},
   "outputs": [
    {
     "name": "stdout",
     "output_type": "stream",
     "text": [
      "solve LU: [[  3.68475241]\n",
      " [ 25.21781018]\n",
      " [ 15.18888631]\n",
      " [-13.81735634]]\n",
      "errore lu: 15.926305040139134\n"
     ]
    }
   ],
   "source": [
    "PT, L, U = spl.lu(A)\n",
    "P = P.T.copy()\n",
    "\n",
    "xlu, flag = LUsolve(P, A, L, U, b)\n",
    "print(\"solve LU:\", xlu)\n",
    "\n",
    "errore_lu = npl.norm(x - xlu, 2) / npl.norm(x, 2)\n",
    "print(\"errore lu:\", errore_lu)"
   ]
  },
  {
   "cell_type": "code",
   "execution_count": null,
   "id": "2b203254",
   "metadata": {},
   "outputs": [],
   "source": [
    "Q, R = spl.qr(A)\n",
    "A1 = Q @ R\n",
    "print(A1)"
   ]
  },
  {
   "cell_type": "markdown",
   "id": "00b1242a-d51d-40fa-a9ed-716cc4ab9d89",
   "metadata": {},
   "source": [
    "## Esercizio 8\n",
    "\n",
    "Ripetere l'esercizio precedente per risolvere il sistema lineare $Ax = b$\n",
    "con $A$ e $b$ cos\\`i  definiti:\n",
    "$$\n",
    "a^{(n)}_{i,j}=\n",
    "\\left \\{\n",
    "\\begin{array}{ll}\n",
    "1 & \\hbox{se} \\ i=j \\ \\hbox{o \\, se} \\ j=n,\\\\\n",
    "-1 & \\hbox{se} \\ i>j,\\\\\n",
    "0 & \\hbox{altrimenti}\n",
    "\\end{array}\n",
    "\\right .\n",
    "\\qquad\n",
    "b = A \\cdot [1, ..., 1]^T,\n",
    "$$\n",
    "per $n = 48 : 2 : 58$ e $b$ scelto in modo che risulti $x = [1, 1, ..., 1]^T$. Che\n",
    "cosa si osserva?"
   ]
  },
  {
   "cell_type": "markdown",
   "id": "66ae0b30-e823-4742-9b43-95268605d358",
   "metadata": {},
   "source": [
    "## Metodi iterativi di Jacobi, Guass-Seidel e Gausseidel_SOR per la soluzione numerica di un sistema lineare"
   ]
  },
  {
   "cell_type": "markdown",
   "id": "28bc92ed-296e-4af1-9b6a-839bf95f81ca",
   "metadata": {},
   "source": [
    "## Esercizio 9\n",
    "Implementare la  funzione $jacobi(A,b,x0,toll,itmax)$ per risolvere il  sistema lineare Ax=b utilizzando il Metodo iterativo di Jacobi. \n",
    "La funzione prende in input:\n",
    "- A: matrice dei coefficienti\n",
    "- b: termine noto\n",
    "- x0: vettore iniziale della stessa dimensione di b\n",
    "- toll: tolleranza per il criterio di arresto\n",
    "- itmax: iterazioni massime oltre le quali il metodo si ferma\n",
    "\n",
    "Calcolare il raggio spettrale della matrice di iterazione.\n",
    "\n",
    "Implementare un criterio di arresto per il procedimento iterativo in termini di : $||x^{(k)}-x^{(k-1)}||/||x^{(k)}|| <toll$"
   ]
  },
  {
   "cell_type": "code",
   "execution_count": 10,
   "id": "6cccd8c8",
   "metadata": {},
   "outputs": [],
   "source": [
    "def jacobi(A, b, x0, toll, it_max):\n",
    "    n = A.shape[0]\n",
    "\n",
    "    # estraggo la diagonale delle matrice come array\n",
    "    d = np.diag(A)\n",
    "    # costruisco una matrice vuota con diangola 1 / d (inversa di d)\n",
    "    invM = np.diag(1 / d) \n",
    "    # estraggo la triangolare inferriore di A senza la diagonale\n",
    "    E = np.tril(A, -1)\n",
    "    # estraggo la traingolare superiore senza di A senza la diagonale\n",
    "    F = np.triu(A, 1)\n",
    "    N = -(E + F)\n",
    "\n",
    "    T = invM @ N\n",
    "    # il raggio spettrale di T deve essere < 1\n",
    "    autovalori = npl.eigvals(T)\n",
    "    # il massimo degli autovalori in valore assoluto\n",
    "    raggio_spettrale = np.max(np.abs(autovalori))\n",
    "\n",
    "    if raggio_spettrale >= 1:\n",
    "        print(\"Metodo non applicabile\")\n",
    "        return None, None, None\n",
    "    \n",
    "    it = 0\n",
    "    errore = 1000\n",
    "    err_vet = []\n",
    "    x = x0\n",
    "\n",
    "    #q = invM @ b\n",
    "    \n",
    "    while it  <= it_max and errore >= toll:\n",
    "        #x = T @ x0  + q\n",
    "        x = (b + N @ x0) / d.reshape((n, 1))\n",
    "\n",
    "        errore = npl.norm(x - x0) / npl.norm(x)\n",
    "        err_vet.append(errore)\n",
    "\n",
    "        x0 = x.copy()\n",
    "\n",
    "        it += 1\n",
    "\n",
    "    return x, it, err_vet"
   ]
  },
  {
   "cell_type": "code",
   "execution_count": 11,
   "id": "8aa06fcc",
   "metadata": {},
   "outputs": [],
   "source": [
    "A = np.array([\n",
    "    [4,1,3],\n",
    "    [3,4,1],\n",
    "    [1,1,17]\n",
    "])\n",
    "n = 3\n",
    "b = np.sum(A, axis=1).reshape((n, 1))"
   ]
  },
  {
   "cell_type": "code",
   "execution_count": 12,
   "id": "8828724d",
   "metadata": {},
   "outputs": [
    {
     "name": "stdout",
     "output_type": "stream",
     "text": [
      "[[1.]\n",
      " [1.]\n",
      " [1.]] 35\n"
     ]
    }
   ],
   "source": [
    "x0 = np.zeros_like(b)\n",
    "it_max = 500\n",
    "toll = 1e-8\n",
    "\n",
    "x, it, err_vet = jacobi(A, b, x0, toll, it_max)\n",
    "print(x, it)"
   ]
  },
  {
   "cell_type": "markdown",
   "id": "94f1b913-cae9-4b23-b6ab-ed8dcc1d4ce6",
   "metadata": {},
   "source": [
    "## Esercizio 10\n",
    "Implementare la  funzione gauss_seidel(A,b,x0,toll,it_max) per risolvere il  sistema lineare Ax=b utilizzando il Metodo iterativo di Gauss-Seidel. \n",
    "La funzione prende in input:\n",
    "- A: matrice dei coefficienti\n",
    "- b: termine noto\n",
    "- x0: vettore iniziale della stessa dimensione di b\n",
    "- toll: tolleranza per il criterio di arresto\n",
    "- itmax: iterazioni massime oltre le quali il metodo si ferma\n",
    "\n",
    "Calcolare il raggio spettrale della matrice di iterazione.\n",
    "\n",
    "Implementare un criterio di arresto per il procedimento iterativo in termini di : $||x^{(k)}-x^{(k-1)}||/||x^{(k)}|| <toll$"
   ]
  },
  {
   "cell_type": "markdown",
   "id": "d45f316b-0e7e-4d7a-9d5d-08ffc5610cab",
   "metadata": {},
   "source": [
    "## Esercizio 11\n",
    "Testare i metodi di Jacobi e di Gauss Seidel nella soluzione dei sistemi lineare Ax=b, dove \n",
    "- A=np.array([[4,1,3],[3,4,1],[1,1,17]]) \n",
    "- A=np.array([[3,0, 4],[7, 4, 3],[-1, -1 ,-2]])\n",
    "- A=np.array([[5, 0, -1, 2],[ -2, 4, 1, 0],[0, -1, 4, -1],[ 2, 0, 0, 3]])\n",
    "\n",
    "ed il termine noto del sistema è scelto in maniera tale che la soluzione esatta del sistema sia il vettore fatto da tutti 1.\n",
    "Visualizzare in un grafico in scala logaritmica  l'errore per ogni iterazione per ciascun metodo. Cosa si osserva?\n",
    "Porre toll=1e-8 it_max=500 e x0=np.zeros(A.shape[0]"
   ]
  },
  {
   "cell_type": "code",
   "execution_count": null,
   "id": "38703e79-c87e-4118-89ed-f580aa14c351",
   "metadata": {},
   "outputs": [],
   "source": []
  },
  {
   "cell_type": "markdown",
   "id": "389daa82-16aa-4c52-b830-41693c320ecd",
   "metadata": {},
   "source": [
    "## Esercizio 12\n",
    "Implementare la  funzione $gauss$_$seidel$_sor(A,b,x0,omega, toll,itmax) per risolvere il  sistema lineare Ax=b utilizzando il Metodo iterativo di Gauss-Seidel-SOR\n",
    "La funzione prende in input:\n",
    "- A: matrice dei coefficienti\n",
    "- b: termine noto\n",
    "- x0: vettore iniziale della stessa dimensione di b\n",
    "- omega: il parametro di rilassamento\n",
    "- toll: tolleranza per il criterio di arresto\n",
    "- itmax: iterazioni massime oltre le quali il metodo si ferma\n",
    "\n",
    "Restituisce in output\n",
    "- la soluzione x\n",
    "- l'errore ad ogni iterazione calcolato come $||x^{(k)}-x^{(k-1)}||/||x^{(k)}||$\n",
    "\n",
    "Calcolare il raggio spettrale della matrice di iterazione.\n",
    "\n",
    "Implementare un criterio di arresto per il procedimento iterativo in termini di : $||x^{(k)}-x^{(k-1)}||/||x^{(k)}|| <toll$"
   ]
  },
  {
   "cell_type": "markdown",
   "id": "2d2d64d1-52ae-43c5-a76c-e869474b6496",
   "metadata": {},
   "source": [
    "## Esercizio 13\n",
    "Scrivere una funzione creaPoisson(n) che preso in input l'ordine della matrice quadrata di Poisson la costruzione secondo la seguente formula:\n",
    "$$A =\n",
    "\\left [\n",
    "\\begin{array}{ccccccccccc}\n",
    "4 & -1 & 0 & -1 &0 &0 & 0& 0& \\cdots &   0 & 0\\\\\n",
    "-1 & 4 & -1 & 0  &-1 &0 & 0& 0& \\cdots &   0 & 0\\\\\n",
    "0 & -1 & 4 & -1  &0 &-1 & 0& 0& \\cdots &   0 & 0 \\\\\n",
    "-1 & 0 & -1 & 4  &-1 &0  & -1 & 0& \\cdots &   0 & 0\\\\\n",
    "0 & -1 & 0 & -1  & 4 &-1 & 0 & -1& \\cdots &   0 & 0\\\\\n",
    "0 & 0 & -1 & 0  & -1 &4 & -1 & 0&  -1 & 0 & 0 \\\\\n",
    "0 & 0 & 0 & \\ddots  & 0 &\\ddots & \\ddots & \\ddots& \\ddots & \\ddots & 0\\\\\n",
    "0 & 0 & 0 & 0  & -1 &0  & -1 & 4& -1 &   0& -1\\\\\n",
    "\\end{array}\n",
    " \\right ], \\qquad\n",
    "$$\n",
    "- Risolvere il sistema lineare Ax=b con matrice dei coefficienti A di Poisson di ordine 10 e termine noto b scelto in maniera tale che il sistema abbia soluzione il vettore x con tutte le componenti  uguali ad 1, utilizzando  il metodo iterativo di Jacobi, Gauss-Seidel e Gauss-Seidel-Sor con parametro omega scelto tra 1 e 2 in maniera tale che il raggio spettrale della matrice di iterazione sia il più piccolo possibile e confrontare su un unico grafico l'andamento degli errori in scala logaritmica. Usare toll=1e-10."
   ]
  }
 ],
 "metadata": {
  "kernelspec": {
   "display_name": "Python 3 (ipykernel)",
   "language": "python",
   "name": "python3"
  },
  "language_info": {
   "codemirror_mode": {
    "name": "ipython",
    "version": 3
   },
   "file_extension": ".py",
   "mimetype": "text/x-python",
   "name": "python",
   "nbconvert_exporter": "python",
   "pygments_lexer": "ipython3",
   "version": "3.11.3"
  }
 },
 "nbformat": 4,
 "nbformat_minor": 5
}
